{
  "nbformat": 4,
  "nbformat_minor": 0,
  "metadata": {
    "colab": {
      "name": "Day0_Python.ipynb",
      "provenance": []
    },
    "kernelspec": {
      "name": "python3",
      "display_name": "Python 3"
    },
    "language_info": {
      "name": "python"
    }
  },
  "cells": [
    {
      "cell_type": "markdown",
      "source": [
        "### Harvard GSD  J-Term 2022 \n",
        "### Introduction to Data Science for Building Simulation and Architectural Design\n",
        "***\n",
        "Instructor: Jung Min Han, jhan2@gsd.harvard.edu <br>\n",
        "Date/Time: Jan 3-7/ 10:00 - 11:30 a.m. <br>\n",
        "***\n",
        "\n",
        "Pease copy this colab notebook and rename it before you start! \n",
        "\n",
        "---\n",
        "\n"
      ],
      "metadata": {
        "id": "UUXm8Z3C4Q0m"
      }
    },
    {
      "cell_type": "markdown",
      "source": [
        "# **Python** **basic** \n",
        "## Basic Syntax\n",
        "### 1. variable and type"
      ],
      "metadata": {
        "id": "cjq_yxwh4mlw"
      }
    },
    {
      "cell_type": "code",
      "source": [
        "myVariable = 10\n",
        "\n",
        "print (myVariable)"
      ],
      "metadata": {
        "colab": {
          "base_uri": "https://localhost:8080/"
        },
        "id": "o7EKroyzpuXm",
        "outputId": "c9b21001-84fb-46c9-d25d-dbd0dab9d567"
      },
      "execution_count": 2,
      "outputs": [
        {
          "output_type": "stream",
          "name": "stdout",
          "text": [
            "10\n"
          ]
        }
      ]
    },
    {
      "cell_type": "code",
      "source": [
        "# your code here\n",
        "\n",
        "\n"
      ],
      "metadata": {
        "id": "cKXan5Zg4sDy"
      },
      "execution_count": 3,
      "outputs": []
    },
    {
      "cell_type": "code",
      "source": [
        "myString = \"hello world\"\n",
        "myInt = 7\n",
        "myFloat = 1.23\n",
        "myBool = True\n",
        "\n",
        "print (myString)\n",
        "print (myInt)\n",
        "print (myFloat)\n",
        "print (myBool)"
      ],
      "metadata": {
        "colab": {
          "base_uri": "https://localhost:8080/"
        },
        "id": "dQDDFQOi4vhx",
        "outputId": "8d6c16fa-d386-4b9b-e108-34f0773e5add"
      },
      "execution_count": 4,
      "outputs": [
        {
          "output_type": "stream",
          "name": "stdout",
          "text": [
            "hello world\n",
            "7\n",
            "1.23\n",
            "True\n"
          ]
        }
      ]
    },
    {
      "cell_type": "code",
      "source": [
        "# your code here\n",
        "\n",
        "\n"
      ],
      "metadata": {
        "id": "VIOsIZ_i4whs"
      },
      "execution_count": 5,
      "outputs": []
    },
    {
      "cell_type": "code",
      "source": [
        "print (type(myString))\n",
        "print (type(myInt))\n",
        "print (type(myBool))"
      ],
      "metadata": {
        "colab": {
          "base_uri": "https://localhost:8080/"
        },
        "id": "vNc84n8V4xmr",
        "outputId": "3e6d003b-6ac9-4ffd-db31-6965281055c2"
      },
      "execution_count": 6,
      "outputs": [
        {
          "output_type": "stream",
          "name": "stdout",
          "text": [
            "<class 'str'>\n",
            "<class 'int'>\n",
            "<class 'bool'>\n"
          ]
        }
      ]
    },
    {
      "cell_type": "code",
      "source": [
        "# your code here\n",
        "\n",
        "\n"
      ],
      "metadata": {
        "id": "3xFCnxlg4zjc"
      },
      "execution_count": 7,
      "outputs": []
    },
    {
      "cell_type": "markdown",
      "source": [
        "### 2. number"
      ],
      "metadata": {
        "id": "SVmFZKOc41fq"
      }
    },
    {
      "cell_type": "code",
      "source": [
        "theNum = 3\n",
        "theNum = 2\n",
        "print (theNum)"
      ],
      "metadata": {
        "colab": {
          "base_uri": "https://localhost:8080/"
        },
        "id": "pdpInpXv43o7",
        "outputId": "c0268bd9-c6c5-4e59-8120-cc776875a801"
      },
      "execution_count": 8,
      "outputs": [
        {
          "output_type": "stream",
          "name": "stdout",
          "text": [
            "2\n"
          ]
        }
      ]
    },
    {
      "cell_type": "code",
      "source": [
        "# your code here\n",
        "\n",
        "\n"
      ],
      "metadata": {
        "id": "dXlNy0NA44eo"
      },
      "execution_count": 9,
      "outputs": []
    },
    {
      "cell_type": "code",
      "source": [
        "numA = 3 \n",
        "numB = 2.0\n",
        "theSum = numA + numB\n",
        "print (theSum)"
      ],
      "metadata": {
        "colab": {
          "base_uri": "https://localhost:8080/"
        },
        "id": "OdilIppq46aa",
        "outputId": "1aa00e4c-4f1d-4ed9-aad8-acc0a1264e30"
      },
      "execution_count": 10,
      "outputs": [
        {
          "output_type": "stream",
          "name": "stdout",
          "text": [
            "5.0\n"
          ]
        }
      ]
    },
    {
      "cell_type": "code",
      "source": [
        "# your code here\n",
        "\n",
        "\n"
      ],
      "metadata": {
        "id": "NgdRZHXY47Qj"
      },
      "execution_count": 11,
      "outputs": []
    },
    {
      "cell_type": "code",
      "source": [
        "myNum = 1\n",
        "myNum += myNum\n",
        "myNum += myNum\n",
        "print (myNum)"
      ],
      "metadata": {
        "colab": {
          "base_uri": "https://localhost:8080/"
        },
        "id": "Nj-s-BYt48Km",
        "outputId": "468f4d2e-6a83-48a9-ad30-3e74711854b5"
      },
      "execution_count": 12,
      "outputs": [
        {
          "output_type": "stream",
          "name": "stdout",
          "text": [
            "4\n"
          ]
        }
      ]
    },
    {
      "cell_type": "code",
      "source": [
        "# your code here\n",
        "\n",
        "\n"
      ],
      "metadata": {
        "id": "-a4PFy-G49RP"
      },
      "execution_count": 13,
      "outputs": []
    },
    {
      "cell_type": "code",
      "source": [
        "total = ((2 ** 2 ) * 0.5 ) + 3.14159 \n",
        "print (total)"
      ],
      "metadata": {
        "colab": {
          "base_uri": "https://localhost:8080/"
        },
        "id": "EHqtz_XC4-B0",
        "outputId": "00a00f9c-b357-4c20-fdfc-5ae348ca6c97"
      },
      "execution_count": 14,
      "outputs": [
        {
          "output_type": "stream",
          "name": "stdout",
          "text": [
            "5.14159\n"
          ]
        }
      ]
    },
    {
      "cell_type": "code",
      "source": [
        "# your code here\n",
        "\n",
        "\n"
      ],
      "metadata": {
        "id": "7vSkALUP4_Gc"
      },
      "execution_count": 14,
      "outputs": []
    },
    {
      "cell_type": "markdown",
      "source": [
        "### 3. comment"
      ],
      "metadata": {
        "id": "sfGovgTy5AYQ"
      }
    },
    {
      "cell_type": "code",
      "source": [
        "# your school\n",
        "schoolName = \"GSD\" \n",
        "year = 2022 # the year\n",
        "'''\n",
        "this is ...\n",
        "the result below\n",
        "'''\n",
        "print (schoolName , year)"
      ],
      "metadata": {
        "colab": {
          "base_uri": "https://localhost:8080/"
        },
        "id": "U-9zBqon5CEm",
        "outputId": "e5ed6c27-2c6a-4a49-e847-ea8a4b9410f7"
      },
      "execution_count": 16,
      "outputs": [
        {
          "output_type": "stream",
          "name": "stdout",
          "text": [
            "GSD 2022\n"
          ]
        }
      ]
    },
    {
      "cell_type": "code",
      "source": [
        "# your code here\n",
        "\n",
        "\n"
      ],
      "metadata": {
        "id": "0e5T8WSl5DPZ"
      },
      "execution_count": 17,
      "outputs": []
    },
    {
      "cell_type": "markdown",
      "source": [
        "### 4. string\n"
      ],
      "metadata": {
        "id": "Y6pD708Y5HKE"
      }
    },
    {
      "cell_type": "code",
      "source": [
        "theText = \"hello world\"\n",
        "print (theText)"
      ],
      "metadata": {
        "colab": {
          "base_uri": "https://localhost:8080/"
        },
        "id": "JTxAXX7F5Fd_",
        "outputId": "c57d1407-41fc-494a-cb08-d323bd260eca"
      },
      "execution_count": 18,
      "outputs": [
        {
          "output_type": "stream",
          "name": "stdout",
          "text": [
            "hello world\n"
          ]
        }
      ]
    },
    {
      "cell_type": "code",
      "source": [
        "# your code here\n",
        "\n",
        "\n"
      ],
      "metadata": {
        "id": "1xttXHYh5Kq5"
      },
      "execution_count": 19,
      "outputs": []
    },
    {
      "cell_type": "code",
      "source": [
        "print (theText[0])\n",
        "print (theText[3])\n",
        "print (theText[-1])\n",
        "print (theText[round(len(theText)/2)])\n",
        "print (len(theText))"
      ],
      "metadata": {
        "colab": {
          "base_uri": "https://localhost:8080/"
        },
        "id": "vyUazpmv5Ly2",
        "outputId": "2beb5ad1-0822-43cc-cd37-c98cfa41a3be"
      },
      "execution_count": 20,
      "outputs": [
        {
          "output_type": "stream",
          "name": "stdout",
          "text": [
            "h\n",
            "l\n",
            "d\n",
            "w\n",
            "11\n"
          ]
        }
      ]
    },
    {
      "cell_type": "code",
      "source": [
        "# your code here\n",
        "\n",
        "\n"
      ],
      "metadata": {
        "id": "_HfBypb05Mql"
      },
      "execution_count": 21,
      "outputs": []
    },
    {
      "cell_type": "code",
      "source": [
        "theString = \"Hello GSD\"\n",
        "print (theString.lower())\n",
        "print (theString.upper())"
      ],
      "metadata": {
        "colab": {
          "base_uri": "https://localhost:8080/"
        },
        "id": "P3-w4XN-5Nv2",
        "outputId": "894488a1-b77e-4342-c8fb-729443294174"
      },
      "execution_count": 22,
      "outputs": [
        {
          "output_type": "stream",
          "name": "stdout",
          "text": [
            "hello gsd\n",
            "HELLO GSD\n"
          ]
        }
      ]
    },
    {
      "cell_type": "code",
      "source": [
        "# your code here\n",
        "\n",
        "\n"
      ],
      "metadata": {
        "id": "MBP9HAFE5OiE"
      },
      "execution_count": 23,
      "outputs": []
    },
    {
      "cell_type": "code",
      "source": [
        "# concatenate for string\n",
        "print (theText + \", \"+ theString)\n",
        "print (\"theText %s, theString %s\" %(theText, theString))"
      ],
      "metadata": {
        "colab": {
          "base_uri": "https://localhost:8080/"
        },
        "id": "88jlFOrn5PpO",
        "outputId": "32bba48c-af33-4484-ee1a-1761ad4d145d"
      },
      "execution_count": 24,
      "outputs": [
        {
          "output_type": "stream",
          "name": "stdout",
          "text": [
            "hello world, Hello GSD\n",
            "theText hello world, theString Hello GSD\n"
          ]
        }
      ]
    },
    {
      "cell_type": "code",
      "source": [
        "# your code here\n",
        "\n",
        "\n"
      ],
      "metadata": {
        "id": "IYe38iGs5QzQ"
      },
      "execution_count": 25,
      "outputs": []
    },
    {
      "cell_type": "markdown",
      "source": [
        "### 5. Casting"
      ],
      "metadata": {
        "id": "rot5fVc25U_s"
      }
    },
    {
      "cell_type": "code",
      "source": [
        "myStringNum= \"3\"\n",
        "myFloatNum = 3.0\n",
        "\n",
        "print (\"myStringNum is \", myStringNum, \"theType is\", type(myStringNum),\"\\n\", \n",
        "       \"myFloatNum is\" , myFloatNum, \"myFloatNum\", type(myFloatNum))\n",
        "\n",
        "print (10 * float(myStringNum))\n",
        "print (\"befor:\", type(myFloatNum), \"after casting\" , type(str(myFloatNum)))"
      ],
      "metadata": {
        "colab": {
          "base_uri": "https://localhost:8080/"
        },
        "id": "3Z8idEBw5SOP",
        "outputId": "ac7923db-163e-4690-ba53-d75ba21b3d32"
      },
      "execution_count": 26,
      "outputs": [
        {
          "output_type": "stream",
          "name": "stdout",
          "text": [
            "myStringNum is  3 theType is <class 'str'> \n",
            " myFloatNum is 3.0 myFloatNum <class 'float'>\n",
            "30.0\n",
            "befor: <class 'float'> after casting <class 'str'>\n"
          ]
        }
      ]
    },
    {
      "cell_type": "code",
      "source": [
        "# your code here\n",
        "\n",
        "\n"
      ],
      "metadata": {
        "id": "uInyPDKo5Wgu"
      },
      "execution_count": 27,
      "outputs": []
    },
    {
      "cell_type": "code",
      "source": [
        "theBool =\"True\"\n",
        "print (type(theBool))\n",
        "print (type(bool(theBool)))"
      ],
      "metadata": {
        "colab": {
          "base_uri": "https://localhost:8080/"
        },
        "id": "FYx1_4EK5XbP",
        "outputId": "8c41401e-476c-4e9d-abb9-45f4b67e5a07"
      },
      "execution_count": 28,
      "outputs": [
        {
          "output_type": "stream",
          "name": "stdout",
          "text": [
            "<class 'str'>\n",
            "<class 'bool'>\n"
          ]
        }
      ]
    },
    {
      "cell_type": "code",
      "source": [
        "# your code here\n",
        "\n",
        "\n",
        "\n"
      ],
      "metadata": {
        "id": "wF-wVgIq5Ye4"
      },
      "execution_count": null,
      "outputs": []
    },
    {
      "cell_type": "markdown",
      "source": [
        "### 6. Conditional Statement"
      ],
      "metadata": {
        "id": "WCM07EkQ5Zb-"
      }
    },
    {
      "cell_type": "code",
      "source": [
        "booA = True\n",
        "booB = False\n",
        "print (booA == booB)\n",
        "print (booA != booB)"
      ],
      "metadata": {
        "colab": {
          "base_uri": "https://localhost:8080/"
        },
        "id": "v7kRSc2e5bie",
        "outputId": "196b0ffd-2908-415e-9ea7-6fa4dc71d703"
      },
      "execution_count": 29,
      "outputs": [
        {
          "output_type": "stream",
          "name": "stdout",
          "text": [
            "False\n",
            "True\n"
          ]
        }
      ]
    },
    {
      "cell_type": "code",
      "source": [
        "# your code here\n",
        "\n",
        "\n",
        "\n"
      ],
      "metadata": {
        "id": "4AlEvIER5cqt"
      },
      "execution_count": 30,
      "outputs": []
    },
    {
      "cell_type": "code",
      "source": [
        "a = 10\n",
        "b = \"10\"\n",
        "print (a == b)\n",
        "print (a == int(b))"
      ],
      "metadata": {
        "colab": {
          "base_uri": "https://localhost:8080/"
        },
        "id": "oxkk1-LS5dh9",
        "outputId": "06afcb4b-d029-4fcb-dbad-aebf6bf1b916"
      },
      "execution_count": 31,
      "outputs": [
        {
          "output_type": "stream",
          "name": "stdout",
          "text": [
            "False\n",
            "True\n"
          ]
        }
      ]
    },
    {
      "cell_type": "code",
      "source": [
        "# your code here\n",
        "\n",
        "\n",
        "\n"
      ],
      "metadata": {
        "id": "qoQX8Ve-5edg"
      },
      "execution_count": 32,
      "outputs": []
    },
    {
      "cell_type": "code",
      "source": [
        "boolA = 3 > 12\n",
        "print (boolA)\n",
        "boolB = 4 < 6 * 4\n",
        "print (boolB)"
      ],
      "metadata": {
        "colab": {
          "base_uri": "https://localhost:8080/"
        },
        "id": "BX9fmWfA5fXp",
        "outputId": "57a66fcf-1197-46f9-869b-130e1fd36050"
      },
      "execution_count": 33,
      "outputs": [
        {
          "output_type": "stream",
          "name": "stdout",
          "text": [
            "False\n",
            "True\n"
          ]
        }
      ]
    },
    {
      "cell_type": "code",
      "source": [
        "# your code here\n",
        "\n",
        "\n",
        "\n"
      ],
      "metadata": {
        "id": "rSQUUK7C5gT7"
      },
      "execution_count": 34,
      "outputs": []
    },
    {
      "cell_type": "code",
      "source": [
        "a = 5\n",
        "b = 5.0\n",
        "print (type(a) == type(b))\n",
        "print (type(float(a)) == type(b))"
      ],
      "metadata": {
        "colab": {
          "base_uri": "https://localhost:8080/"
        },
        "id": "UfHzOz955hpv",
        "outputId": "831435bd-1b4f-4974-b066-1cbc016bb6b8"
      },
      "execution_count": 35,
      "outputs": [
        {
          "output_type": "stream",
          "name": "stdout",
          "text": [
            "False\n",
            "True\n"
          ]
        }
      ]
    },
    {
      "cell_type": "code",
      "source": [
        "# your code here\n",
        "\n",
        "\n",
        "\n"
      ],
      "metadata": {
        "id": "ajKoJ51W5ikg"
      },
      "execution_count": 36,
      "outputs": []
    },
    {
      "cell_type": "code",
      "source": [
        "print (3 == 2 or 5 == 5)\n",
        "print (3 == 2 and 5 == 5)"
      ],
      "metadata": {
        "colab": {
          "base_uri": "https://localhost:8080/"
        },
        "id": "lgoon2Z_5jfK",
        "outputId": "f8798fe0-d112-45f4-b428-eb63dd6f0c0d"
      },
      "execution_count": 37,
      "outputs": [
        {
          "output_type": "stream",
          "name": "stdout",
          "text": [
            "True\n",
            "False\n"
          ]
        }
      ]
    },
    {
      "cell_type": "code",
      "source": [
        "# your code here\n",
        "\n",
        "\n",
        "\n"
      ],
      "metadata": {
        "id": "XaZk9zLF5kwA"
      },
      "execution_count": 38,
      "outputs": []
    },
    {
      "cell_type": "code",
      "source": [
        "print ((3 == 2 or 5 == 5) and  (3 == 2 and 5 == 5))"
      ],
      "metadata": {
        "colab": {
          "base_uri": "https://localhost:8080/"
        },
        "id": "oFyzuJhR5mEK",
        "outputId": "f12c3c93-fae5-403b-afa2-c9a40640858a"
      },
      "execution_count": 39,
      "outputs": [
        {
          "output_type": "stream",
          "name": "stdout",
          "text": [
            "False\n"
          ]
        }
      ]
    },
    {
      "cell_type": "code",
      "source": [
        "# your code here\n",
        "\n",
        "\n",
        "\n"
      ],
      "metadata": {
        "id": "NW0FL8eh5nXl"
      },
      "execution_count": 40,
      "outputs": []
    },
    {
      "cell_type": "code",
      "source": [
        "a = 3\n",
        "b = 5\n",
        "\n",
        "if a > b:\n",
        "    print (\"a is greater than b\")\n",
        "elif(a == b):\n",
        "    print (\"a is equal to b\")\n",
        "else:\n",
        "    print (\"a is smaller than b\")"
      ],
      "metadata": {
        "colab": {
          "base_uri": "https://localhost:8080/"
        },
        "id": "km9uqPk75oKV",
        "outputId": "89a80df9-e905-4861-b2a9-865bf6687d82"
      },
      "execution_count": 41,
      "outputs": [
        {
          "output_type": "stream",
          "name": "stdout",
          "text": [
            "a is smaller than b\n"
          ]
        }
      ]
    },
    {
      "cell_type": "code",
      "source": [
        "# your code here\n",
        "\n",
        "\n",
        "\n"
      ],
      "metadata": {
        "id": "Uxtuo8IT5pOy"
      },
      "execution_count": 42,
      "outputs": []
    },
    {
      "cell_type": "markdown",
      "source": [
        "### 7. loop\n"
      ],
      "metadata": {
        "id": "x29RpfUx5reu"
      }
    },
    {
      "cell_type": "code",
      "source": [
        "for i in range(3):\n",
        "    print (\"hello world\")"
      ],
      "metadata": {
        "colab": {
          "base_uri": "https://localhost:8080/"
        },
        "id": "yWKgwOsf5qVQ",
        "outputId": "d3c11c13-537a-493a-8388-5af810079b6f"
      },
      "execution_count": 43,
      "outputs": [
        {
          "output_type": "stream",
          "name": "stdout",
          "text": [
            "hello world\n",
            "hello world\n",
            "hello world\n"
          ]
        }
      ]
    },
    {
      "cell_type": "code",
      "source": [
        "# your code here\n",
        "\n",
        "\n",
        "\n"
      ],
      "metadata": {
        "id": "7EB7SSb35t-i"
      },
      "execution_count": 44,
      "outputs": []
    },
    {
      "cell_type": "code",
      "source": [
        "for i in range(3,6):\n",
        "    print (i)"
      ],
      "metadata": {
        "colab": {
          "base_uri": "https://localhost:8080/"
        },
        "id": "UPZCiXW35vwU",
        "outputId": "eeeb8575-f2f6-421c-c10f-294cdd79115d"
      },
      "execution_count": 45,
      "outputs": [
        {
          "output_type": "stream",
          "name": "stdout",
          "text": [
            "3\n",
            "4\n",
            "5\n"
          ]
        }
      ]
    },
    {
      "cell_type": "code",
      "source": [
        "# your code here\n",
        "\n",
        "\n",
        "\n"
      ],
      "metadata": {
        "id": "TMrC4TJj5wj8"
      },
      "execution_count": 46,
      "outputs": []
    },
    {
      "cell_type": "code",
      "source": [
        "theIter = 10\n",
        "for i in range(theIter):\n",
        "    if i % 2 == 0: # modulo operation\n",
        "        print (i)\n",
        "    else :\n",
        "        print (\"odd number\")"
      ],
      "metadata": {
        "colab": {
          "base_uri": "https://localhost:8080/"
        },
        "id": "9Wf8GafQ5xkr",
        "outputId": "1fecdf29-1eff-49bd-ce40-c0e19bcb6486"
      },
      "execution_count": 47,
      "outputs": [
        {
          "output_type": "stream",
          "name": "stdout",
          "text": [
            "0\n",
            "odd number\n",
            "2\n",
            "odd number\n",
            "4\n",
            "odd number\n",
            "6\n",
            "odd number\n",
            "8\n",
            "odd number\n"
          ]
        }
      ]
    },
    {
      "cell_type": "code",
      "source": [
        "# your code here\n",
        "\n",
        "\n",
        "\n"
      ],
      "metadata": {
        "id": "FKU5ppjK5yik"
      },
      "execution_count": 48,
      "outputs": []
    },
    {
      "cell_type": "code",
      "source": [
        "theIter = 5\n",
        "while theIter > 0:\n",
        "    print (theIter)\n",
        "    theIter -= 1"
      ],
      "metadata": {
        "colab": {
          "base_uri": "https://localhost:8080/"
        },
        "id": "RChYo3fo5zel",
        "outputId": "341276e4-31ea-4354-817e-e1b76b29e7d6"
      },
      "execution_count": 49,
      "outputs": [
        {
          "output_type": "stream",
          "name": "stdout",
          "text": [
            "5\n",
            "4\n",
            "3\n",
            "2\n",
            "1\n"
          ]
        }
      ]
    },
    {
      "cell_type": "code",
      "source": [
        "# your code here\n",
        "\n",
        "\n",
        "\n"
      ],
      "metadata": {
        "id": "gKq8Rzml50in"
      },
      "execution_count": 50,
      "outputs": []
    },
    {
      "cell_type": "code",
      "source": [
        "for i in range(2):\n",
        "    for j in range (3):\n",
        "        print (\"i =\" , i ,\",\", \"j =\", j)"
      ],
      "metadata": {
        "colab": {
          "base_uri": "https://localhost:8080/"
        },
        "id": "uw4dsJh351mu",
        "outputId": "56b3572b-6ee1-4da6-d217-a1712d490466"
      },
      "execution_count": 51,
      "outputs": [
        {
          "output_type": "stream",
          "name": "stdout",
          "text": [
            "i = 0 , j = 0\n",
            "i = 0 , j = 1\n",
            "i = 0 , j = 2\n",
            "i = 1 , j = 0\n",
            "i = 1 , j = 1\n",
            "i = 1 , j = 2\n"
          ]
        }
      ]
    },
    {
      "cell_type": "code",
      "source": [
        "# your code here\n",
        "\n",
        "\n",
        "\n"
      ],
      "metadata": {
        "id": "_RxHgeJ252_J"
      },
      "execution_count": 52,
      "outputs": []
    },
    {
      "cell_type": "markdown",
      "source": [
        "## Data Structure\n",
        "### 8. List\n",
        "https://docs.python.org/2/tutorial/datastructures.html"
      ],
      "metadata": {
        "id": "OmBD85oP5461"
      }
    },
    {
      "cell_type": "code",
      "source": [
        "theListA = [1,2,3,4,5]\n",
        "theListB = [\"hello world\"]\n",
        "print (theListA)\n",
        "print (theListA[3:])\n",
        "\n",
        "print (theListB)\n",
        "\n",
        "theListB.append(3)\n",
        "theListB.append(6)\n",
        "print (theListB)"
      ],
      "metadata": {
        "colab": {
          "base_uri": "https://localhost:8080/"
        },
        "id": "xHEYomJZ54PM",
        "outputId": "aa4f062e-c21a-49bb-ed91-01f370aa05d7"
      },
      "execution_count": 53,
      "outputs": [
        {
          "output_type": "stream",
          "name": "stdout",
          "text": [
            "[1, 2, 3, 4, 5]\n",
            "[4, 5]\n",
            "['hello world']\n",
            "['hello world', 3, 6]\n"
          ]
        }
      ]
    },
    {
      "cell_type": "code",
      "source": [
        "# your code here\n",
        "\n",
        "\n",
        "\n"
      ],
      "metadata": {
        "id": "i6PXtIWY58vm"
      },
      "execution_count": 54,
      "outputs": []
    },
    {
      "cell_type": "code",
      "source": [
        "theString = \"hello GSD\"\n",
        "print (theString[3:])\n",
        "print (\"the length of string is\",len(theString), \".\")\n",
        "print (\"---------------------------\")\n",
        "for i in theString:\n",
        "    print (i)"
      ],
      "metadata": {
        "colab": {
          "base_uri": "https://localhost:8080/"
        },
        "id": "9n9e8x1G5-FG",
        "outputId": "15f1213b-ea33-4f42-8b44-0b1badbed421"
      },
      "execution_count": 55,
      "outputs": [
        {
          "output_type": "stream",
          "name": "stdout",
          "text": [
            "lo GSD\n",
            "the length of string is 9 .\n",
            "---------------------------\n",
            "h\n",
            "e\n",
            "l\n",
            "l\n",
            "o\n",
            " \n",
            "G\n",
            "S\n",
            "D\n"
          ]
        }
      ]
    },
    {
      "cell_type": "code",
      "source": [
        "# your code here\n",
        "\n",
        "\n",
        "\n"
      ],
      "metadata": {
        "id": "5bU3xDxT5-9o"
      },
      "execution_count": 56,
      "outputs": []
    },
    {
      "cell_type": "code",
      "source": [
        "basket = ['apple', 'orange', 'apple', 'pear', 'orange', 'banana']\n",
        "basket = set(basket) # https://docs.python.org/2/library/sets.html\n",
        "for f in sorted(basket):\n",
        "    print (f)"
      ],
      "metadata": {
        "colab": {
          "base_uri": "https://localhost:8080/"
        },
        "id": "8uhqxhDq6AJF",
        "outputId": "92bd023e-ed20-4443-87d7-0db0aea6c7e3"
      },
      "execution_count": 57,
      "outputs": [
        {
          "output_type": "stream",
          "name": "stdout",
          "text": [
            "apple\n",
            "banana\n",
            "orange\n",
            "pear\n"
          ]
        }
      ]
    },
    {
      "cell_type": "code",
      "source": [
        "# your code here\n",
        "\n",
        "\n",
        "\n"
      ],
      "metadata": {
        "id": "OnwPs4IF6BCQ"
      },
      "execution_count": 58,
      "outputs": []
    },
    {
      "cell_type": "code",
      "source": [
        "myList = [1,2,5,8,9]\n",
        "for i in myList:\n",
        "    print (i)"
      ],
      "metadata": {
        "colab": {
          "base_uri": "https://localhost:8080/"
        },
        "id": "GDMFhGGu6CRH",
        "outputId": "1b7644f3-c132-436a-a034-683158270efe"
      },
      "execution_count": 59,
      "outputs": [
        {
          "output_type": "stream",
          "name": "stdout",
          "text": [
            "1\n",
            "2\n",
            "5\n",
            "8\n",
            "9\n"
          ]
        }
      ]
    },
    {
      "cell_type": "code",
      "source": [
        "# your code here\n",
        "\n",
        "\n",
        "\n"
      ],
      "metadata": {
        "id": "PKc4ASpy6DGj"
      },
      "execution_count": 60,
      "outputs": []
    },
    {
      "cell_type": "code",
      "source": [
        "print (len(myList))\n",
        "print (myList[-1])"
      ],
      "metadata": {
        "colab": {
          "base_uri": "https://localhost:8080/"
        },
        "id": "d3oEZbCr6EOx",
        "outputId": "6db3371a-0940-46e9-9c6d-bad22365c3f0"
      },
      "execution_count": 61,
      "outputs": [
        {
          "output_type": "stream",
          "name": "stdout",
          "text": [
            "5\n",
            "9\n"
          ]
        }
      ]
    },
    {
      "cell_type": "code",
      "source": [
        "# your code here\n",
        "\n",
        "\n",
        "\n"
      ],
      "metadata": {
        "id": "ZdU2Va4r6FD0"
      },
      "execution_count": 65,
      "outputs": []
    },
    {
      "cell_type": "code",
      "source": [
        "theNewList = []\n",
        "for i in range(10):\n",
        "    theNewList.append(i*10)\n",
        "print (theNewList)"
      ],
      "metadata": {
        "colab": {
          "base_uri": "https://localhost:8080/"
        },
        "id": "SxjaNldy6F-N",
        "outputId": "4d77504e-eabd-4e35-ceef-ac3ff25e686b"
      },
      "execution_count": 63,
      "outputs": [
        {
          "output_type": "stream",
          "name": "stdout",
          "text": [
            "[0, 10, 20, 30, 40, 50, 60, 70, 80, 90]\n"
          ]
        }
      ]
    },
    {
      "cell_type": "code",
      "source": [
        "# your code here\n",
        "\n",
        "\n",
        "\n"
      ],
      "metadata": {
        "id": "oOMYqxFy6G68"
      },
      "execution_count": 66,
      "outputs": []
    },
    {
      "cell_type": "code",
      "source": [
        "theNewList.index(50)"
      ],
      "metadata": {
        "colab": {
          "base_uri": "https://localhost:8080/"
        },
        "id": "M2SX_3Bh6Hp_",
        "outputId": "df2d6f8b-1c9e-4070-f9b1-14766def34ad"
      },
      "execution_count": 67,
      "outputs": [
        {
          "output_type": "execute_result",
          "data": {
            "text/plain": [
              "5"
            ]
          },
          "metadata": {},
          "execution_count": 67
        }
      ]
    },
    {
      "cell_type": "code",
      "source": [
        "# your code here\n",
        "\n",
        "\n",
        "\n"
      ],
      "metadata": {
        "id": "mfAABH0U6OYF"
      },
      "execution_count": 69,
      "outputs": []
    },
    {
      "cell_type": "code",
      "source": [
        "myList = [1,2,3,\"gsd\", -5, True,'mdes',10]\n",
        "print (myList)\n",
        "myList.insert(0, 0)\n",
        "print (myList)\n",
        "myList.remove('gsd')\n",
        "print (myList)"
      ],
      "metadata": {
        "colab": {
          "base_uri": "https://localhost:8080/"
        },
        "id": "RF2LAOuF6QGF",
        "outputId": "c3380714-55e7-4406-c29e-a388fd3294cb"
      },
      "execution_count": 70,
      "outputs": [
        {
          "output_type": "stream",
          "name": "stdout",
          "text": [
            "[1, 2, 3, 'gsd', -5, True, 'mdes', 10]\n",
            "[0, 1, 2, 3, 'gsd', -5, True, 'mdes', 10]\n",
            "[0, 1, 2, 3, -5, True, 'mdes', 10]\n"
          ]
        }
      ]
    },
    {
      "cell_type": "code",
      "source": [
        "# your code here\n",
        "\n",
        "\n",
        "\n"
      ],
      "metadata": {
        "id": "-iYIL9sj6xu1"
      },
      "execution_count": 71,
      "outputs": []
    },
    {
      "cell_type": "code",
      "source": [
        "myList.pop()\n",
        "print (myList)"
      ],
      "metadata": {
        "colab": {
          "base_uri": "https://localhost:8080/"
        },
        "id": "kAt_JDnW6yqI",
        "outputId": "7b7f3ff7-16c5-4420-9c1a-005cf5b2d09d"
      },
      "execution_count": 72,
      "outputs": [
        {
          "output_type": "stream",
          "name": "stdout",
          "text": [
            "[0, 1, 2, 3, -5, True, 'mdes']\n"
          ]
        }
      ]
    },
    {
      "cell_type": "code",
      "source": [
        "# your code here\n",
        "\n",
        "\n",
        "\n"
      ],
      "metadata": {
        "id": "v81FCIge6zrR"
      },
      "execution_count": 73,
      "outputs": []
    },
    {
      "cell_type": "code",
      "source": [
        "myList.pop(2) # index\n",
        "print (myList)"
      ],
      "metadata": {
        "colab": {
          "base_uri": "https://localhost:8080/"
        },
        "id": "b7l64CpD60fe",
        "outputId": "686f84ca-f296-47e2-bd44-38a62e4a3d5e"
      },
      "execution_count": 74,
      "outputs": [
        {
          "output_type": "stream",
          "name": "stdout",
          "text": [
            "[0, 1, 3, -5, True, 'mdes']\n"
          ]
        }
      ]
    },
    {
      "cell_type": "code",
      "source": [
        "# your code here\n",
        "\n",
        "\n",
        "\n"
      ],
      "metadata": {
        "id": "LaNjCqeI61Wq"
      },
      "execution_count": 75,
      "outputs": []
    },
    {
      "cell_type": "code",
      "source": [
        "myList.reverse()\n",
        "print (myList)"
      ],
      "metadata": {
        "colab": {
          "base_uri": "https://localhost:8080/"
        },
        "id": "Y5sgOyhd62LU",
        "outputId": "c0f67b54-b326-4d0f-f6ed-142604b972b7"
      },
      "execution_count": 76,
      "outputs": [
        {
          "output_type": "stream",
          "name": "stdout",
          "text": [
            "['mdes', True, -5, 3, 1, 0]\n"
          ]
        }
      ]
    },
    {
      "cell_type": "code",
      "source": [
        "# your code here\n",
        "\n",
        "\n",
        "\n"
      ],
      "metadata": {
        "id": "R7LJ54zr63Su"
      },
      "execution_count": 77,
      "outputs": []
    },
    {
      "cell_type": "markdown",
      "source": [
        "### 9. Dictionary"
      ],
      "metadata": {
        "id": "q0q6ukrY640w"
      }
    },
    {
      "cell_type": "code",
      "source": [
        "person = {'height': 170, \"name\": 'Tony', \"weight\": 65  }\n",
        "print (person)\n",
        "print (person['name'])\n",
        "print (person['weight'])"
      ],
      "metadata": {
        "colab": {
          "base_uri": "https://localhost:8080/"
        },
        "id": "qPEK1xia64QH",
        "outputId": "e4598f33-3809-4bb8-9ccd-fa911fa9c427"
      },
      "execution_count": 78,
      "outputs": [
        {
          "output_type": "stream",
          "name": "stdout",
          "text": [
            "{'height': 170, 'name': 'Tony', 'weight': 65}\n",
            "Tony\n",
            "65\n"
          ]
        }
      ]
    },
    {
      "cell_type": "code",
      "source": [
        "# your code here\n",
        "\n",
        "\n",
        "\n"
      ],
      "metadata": {
        "id": "JlK49-yn67yD"
      },
      "execution_count": 79,
      "outputs": []
    },
    {
      "cell_type": "code",
      "source": [
        "person['adress'] = 'Cambridge, MA'\n",
        "print (person)"
      ],
      "metadata": {
        "colab": {
          "base_uri": "https://localhost:8080/"
        },
        "id": "QbmW9Kd269Jj",
        "outputId": "106f5d36-15f5-4ae6-c29f-7862a2cc30ec"
      },
      "execution_count": 80,
      "outputs": [
        {
          "output_type": "stream",
          "name": "stdout",
          "text": [
            "{'height': 170, 'name': 'Tony', 'weight': 65, 'adress': 'Cambridge, MA'}\n"
          ]
        }
      ]
    },
    {
      "cell_type": "code",
      "source": [
        "# your code here\n",
        "\n",
        "\n",
        "\n"
      ],
      "metadata": {
        "id": "U3G29g9K697y"
      },
      "execution_count": 81,
      "outputs": []
    },
    {
      "cell_type": "code",
      "source": [
        "person['height'] += 10\n",
        "print (person)"
      ],
      "metadata": {
        "colab": {
          "base_uri": "https://localhost:8080/"
        },
        "id": "WwhU1GMG6_DK",
        "outputId": "daf58709-2b84-4ed6-b08b-4906a6789415"
      },
      "execution_count": 82,
      "outputs": [
        {
          "output_type": "stream",
          "name": "stdout",
          "text": [
            "{'height': 180, 'name': 'Tony', 'weight': 65, 'adress': 'Cambridge, MA'}\n"
          ]
        }
      ]
    },
    {
      "cell_type": "code",
      "source": [
        "# your code here\n",
        "\n",
        "\n",
        "\n"
      ],
      "metadata": {
        "id": "7KoLLGgm7ACM"
      },
      "execution_count": 83,
      "outputs": []
    },
    {
      "cell_type": "code",
      "source": [
        "person[\"skill\"] = ['rhino', 'grasshopper', 'photoshop']\n",
        "print (person)"
      ],
      "metadata": {
        "colab": {
          "base_uri": "https://localhost:8080/"
        },
        "id": "6rMtZZ3_7A61",
        "outputId": "a08bc81c-2a3f-4e67-f025-972be66e83b2"
      },
      "execution_count": 84,
      "outputs": [
        {
          "output_type": "stream",
          "name": "stdout",
          "text": [
            "{'height': 180, 'name': 'Tony', 'weight': 65, 'adress': 'Cambridge, MA', 'skill': ['rhino', 'grasshopper', 'photoshop']}\n"
          ]
        }
      ]
    },
    {
      "cell_type": "code",
      "source": [
        "# your code here\n",
        "\n",
        "\n",
        "\n"
      ],
      "metadata": {
        "id": "QIk_uLOQ7B0M"
      },
      "execution_count": 85,
      "outputs": []
    },
    {
      "cell_type": "code",
      "source": [
        "for i in person:\n",
        "    content = person[i]\n",
        "    if(type(content) == list):\n",
        "        for j, skill in enumerate(content):\n",
        "            print (\"the skill\",j , \":\", skill)\n",
        "    else:\n",
        "        print (content)"
      ],
      "metadata": {
        "colab": {
          "base_uri": "https://localhost:8080/"
        },
        "id": "HRkCm6hf7CpC",
        "outputId": "3aa6bfb1-1458-41a2-920f-8994b87afe81"
      },
      "execution_count": 86,
      "outputs": [
        {
          "output_type": "stream",
          "name": "stdout",
          "text": [
            "180\n",
            "Tony\n",
            "65\n",
            "Cambridge, MA\n",
            "the skill 0 : rhino\n",
            "the skill 1 : grasshopper\n",
            "the skill 2 : photoshop\n"
          ]
        }
      ]
    },
    {
      "cell_type": "code",
      "source": [
        "# your code here\n",
        "\n",
        "\n",
        "\n"
      ],
      "metadata": {
        "id": "ldjHwSSJ7Djq"
      },
      "execution_count": 87,
      "outputs": []
    },
    {
      "cell_type": "code",
      "source": [
        "theIndex = [\"a\", \"b\", \"c\"]\n",
        "theNewDic = {} # Empty dictionary\n",
        "for j in theIndex:\n",
        "    lst = []\n",
        "    for i in range(3):\n",
        "        lst.append(i);\n",
        "    theNewDic[str(j)] = lst\n",
        "print (theNewDic)"
      ],
      "metadata": {
        "colab": {
          "base_uri": "https://localhost:8080/"
        },
        "id": "TnZ8vAQB7Eqq",
        "outputId": "9a8e91cb-e847-4960-bb9d-6f35a82d107c"
      },
      "execution_count": 88,
      "outputs": [
        {
          "output_type": "stream",
          "name": "stdout",
          "text": [
            "{'a': [0, 1, 2], 'b': [0, 1, 2], 'c': [0, 1, 2]}\n"
          ]
        }
      ]
    },
    {
      "cell_type": "code",
      "source": [
        "# your code here\n",
        "\n",
        "\n",
        "\n"
      ],
      "metadata": {
        "id": "2XJdV_uE7FdH"
      },
      "execution_count": 89,
      "outputs": []
    },
    {
      "cell_type": "markdown",
      "source": [
        "### 10. Tuple"
      ],
      "metadata": {
        "id": "XfQr_HSa7IyD"
      }
    },
    {
      "cell_type": "code",
      "source": [
        "theTuple = (1,2, 3)\n",
        "print (theTuple)\n",
        "print (theTuple[0])\n"
      ],
      "metadata": {
        "colab": {
          "base_uri": "https://localhost:8080/"
        },
        "id": "FDwjAl7X7GlS",
        "outputId": "ab63e4d1-62cf-409e-d015-58eac661c5f3"
      },
      "execution_count": 90,
      "outputs": [
        {
          "output_type": "stream",
          "name": "stdout",
          "text": [
            "(1, 2, 3)\n",
            "1\n"
          ]
        }
      ]
    },
    {
      "cell_type": "code",
      "source": [
        "# your code here\n",
        "\n",
        "\n",
        "\n"
      ],
      "metadata": {
        "id": "ha_JT1gu7K2L"
      },
      "execution_count": 91,
      "outputs": []
    },
    {
      "cell_type": "code",
      "source": [
        "tA = (1,2,3)\n",
        "print (tA * 2)\n",
        "\n",
        "tB = ('a','b','c')\n",
        "tC = (tA + tB)\n",
        "print (tC)"
      ],
      "metadata": {
        "colab": {
          "base_uri": "https://localhost:8080/"
        },
        "id": "ZQpsi5CC7MQu",
        "outputId": "ac6c40d8-7b77-415a-91fb-172f0e3d44d4"
      },
      "execution_count": 92,
      "outputs": [
        {
          "output_type": "stream",
          "name": "stdout",
          "text": [
            "(1, 2, 3, 1, 2, 3)\n",
            "(1, 2, 3, 'a', 'b', 'c')\n"
          ]
        }
      ]
    },
    {
      "cell_type": "code",
      "source": [
        "# your code here\n",
        "\n",
        "\n",
        "\n"
      ],
      "metadata": {
        "id": "cK7HQP6b7NAX"
      },
      "execution_count": 93,
      "outputs": []
    },
    {
      "cell_type": "code",
      "source": [
        "theIndex = [\"a\", \"b\", \"c\"]\n",
        "theList = [1,2,3]\n",
        "theTuple = zip(theIndex, theList)\n",
        "print (theTuple)\n",
        "for i in theTuple:\n",
        "    print (i[0], i[1])"
      ],
      "metadata": {
        "colab": {
          "base_uri": "https://localhost:8080/"
        },
        "id": "h0fmquOO7ODa",
        "outputId": "337b85df-b7a2-49c2-f1b6-735dee4519e3"
      },
      "execution_count": 94,
      "outputs": [
        {
          "output_type": "stream",
          "name": "stdout",
          "text": [
            "<zip object at 0x7f9de6b840f0>\n",
            "a 1\n",
            "b 2\n",
            "c 3\n"
          ]
        }
      ]
    },
    {
      "cell_type": "code",
      "source": [
        "# your code here\n",
        "\n",
        "\n",
        "\n"
      ],
      "metadata": {
        "id": "LqxHSbP_7O1L"
      },
      "execution_count": 95,
      "outputs": []
    },
    {
      "cell_type": "code",
      "source": [
        "theTuple = (1,2,3)\n",
        "print (theTuple)\n",
        "print (type(theTuple))\n",
        "\n",
        "newList = list(theTuple)\n",
        "print (newList)\n",
        "print (type(newList))\n",
        "\n",
        "newTuple = tuple(newList)\n",
        "print (newTuple)\n",
        "print (type(newTuple))\n"
      ],
      "metadata": {
        "colab": {
          "base_uri": "https://localhost:8080/"
        },
        "id": "wIJTr37l7Pvp",
        "outputId": "56b46721-9e3c-4aef-dafa-c4152e24b1a8"
      },
      "execution_count": 96,
      "outputs": [
        {
          "output_type": "stream",
          "name": "stdout",
          "text": [
            "(1, 2, 3)\n",
            "<class 'tuple'>\n",
            "[1, 2, 3]\n",
            "<class 'list'>\n",
            "(1, 2, 3)\n",
            "<class 'tuple'>\n"
          ]
        }
      ]
    },
    {
      "cell_type": "code",
      "source": [
        "# your code here\n",
        "\n",
        "\n"
      ],
      "metadata": {
        "id": "osXI4mLt7Qxx"
      },
      "execution_count": 97,
      "outputs": []
    },
    {
      "cell_type": "markdown",
      "source": [
        "### 11. Function"
      ],
      "metadata": {
        "id": "J1aUGR9u7UNJ"
      }
    },
    {
      "cell_type": "code",
      "source": [
        "def theSum(a,b):\n",
        "    print (a + b)\n",
        "theSum(10,3)"
      ],
      "metadata": {
        "colab": {
          "base_uri": "https://localhost:8080/"
        },
        "id": "GekxF-3Y7SK9",
        "outputId": "1ddb3f93-8429-46f7-fc51-185c9ab5ddad"
      },
      "execution_count": 98,
      "outputs": [
        {
          "output_type": "stream",
          "name": "stdout",
          "text": [
            "13\n"
          ]
        }
      ]
    },
    {
      "cell_type": "code",
      "source": [
        "# your code here\n",
        "\n",
        "\n"
      ],
      "metadata": {
        "id": "FtVdTOdp7V6H"
      },
      "execution_count": 99,
      "outputs": []
    },
    {
      "cell_type": "code",
      "source": [
        "def theSum(a,b):\n",
        "    return a + b\n",
        "mySum = theSum(10,3)\n",
        "print (mySum)"
      ],
      "metadata": {
        "colab": {
          "base_uri": "https://localhost:8080/"
        },
        "id": "NhkEpZ7K7WxZ",
        "outputId": "71fb323d-100d-4577-f93a-30419d9ab14a"
      },
      "execution_count": 100,
      "outputs": [
        {
          "output_type": "stream",
          "name": "stdout",
          "text": [
            "13\n"
          ]
        }
      ]
    },
    {
      "cell_type": "code",
      "source": [
        "# your code here\n",
        "\n",
        "\n"
      ],
      "metadata": {
        "id": "RB1IqJJO7Xjf"
      },
      "execution_count": 101,
      "outputs": []
    },
    {
      "cell_type": "code",
      "source": [
        "def find_A_character_from_word(word):\n",
        "    theWord = word.upper()\n",
        "    for i, char in enumerate(theWord):\n",
        "        if(char == \"A\"):\n",
        "            print (\"yes\")\n",
        "            return i\n",
        "    print (\"no\")\n",
        "    return -1\n",
        "theIndex = find_A_character_from_word(\"apple\")\n",
        "print (theIndex)\n",
        "print (\"--------------------------------\")\n",
        "\n",
        "theIndex = find_A_character_from_word(\"lemon\")\n",
        "print (theIndex)\n",
        "print (\"--------------------------------\")\n",
        "\n",
        "theIndex = find_A_character_from_word(\"strawberry\")\n",
        "print (theIndex)"
      ],
      "metadata": {
        "colab": {
          "base_uri": "https://localhost:8080/"
        },
        "id": "tyDwi7Ha7YcV",
        "outputId": "d0e6b10d-eea1-49fd-87f8-977f05929d94"
      },
      "execution_count": 102,
      "outputs": [
        {
          "output_type": "stream",
          "name": "stdout",
          "text": [
            "yes\n",
            "0\n",
            "--------------------------------\n",
            "no\n",
            "-1\n",
            "--------------------------------\n",
            "yes\n",
            "3\n"
          ]
        }
      ]
    },
    {
      "cell_type": "code",
      "source": [
        "# your code here\n",
        "\n",
        "\n"
      ],
      "metadata": {
        "id": "Jy2mvKZK7ZcF"
      },
      "execution_count": 103,
      "outputs": []
    },
    {
      "cell_type": "code",
      "source": [
        "import random \n",
        "\n",
        "def getRandomValue(theMin, theMax):\n",
        "    return random.randint(theMin, theMax)\n",
        "\n",
        "def getNumofValue(theIter, theMin, theMax):\n",
        "    outList = []\n",
        "    for i in range(theIter):\n",
        "        outList.append(getRandomValue(theMin, theMax))\n",
        "    return outList\n",
        "\n",
        "\n",
        "theIter = int(input(\"number of iteration?\"))\n",
        "theMin = int(input(\"min\"))\n",
        "theMax = int(input(\"max\"))\n",
        "theList = getNumofValue(theIter, theMin, theMax)\n",
        "print (theList)\n",
        "print (sum(theList))"
      ],
      "metadata": {
        "colab": {
          "base_uri": "https://localhost:8080/"
        },
        "id": "hoAEmG0P7aYJ",
        "outputId": "e8d17536-1c12-43dc-93d1-4cde3212bbed"
      },
      "execution_count": 104,
      "outputs": [
        {
          "output_type": "stream",
          "name": "stdout",
          "text": [
            "number of iteration?3\n",
            "min1\n",
            "max2\n",
            "[2, 1, 1]\n",
            "4\n"
          ]
        }
      ]
    },
    {
      "cell_type": "code",
      "source": [
        "# your code here\n",
        "\n",
        "\n"
      ],
      "metadata": {
        "id": "bCFx1V_l7bpp"
      },
      "execution_count": 105,
      "outputs": []
    },
    {
      "cell_type": "code",
      "source": [
        "from datetime import datetime # https://docs.python.org/2/library/datetime.html\n",
        "now = datetime.now()\n",
        "\n",
        "print ('0%s/%s/%s' % (now.month, now.day, now.year))\n",
        "\n",
        "from datetime import datetime\n",
        "now = datetime.now()\n",
        "\n",
        "print ('0%s:%s:%s' % (now.hour, now.minute, now.second))\n",
        "\n",
        "from datetime import datetime\n",
        "now = datetime.now()\n",
        "\n",
        "print ('0%s/%s/%s 0%s:%s:%s' % (now.month, now.day, now.year, now.hour, now.minute, now.second))\n"
      ],
      "metadata": {
        "colab": {
          "base_uri": "https://localhost:8080/"
        },
        "id": "bddktU3J7cvD",
        "outputId": "4a1f1746-927c-4049-c118-df6bc1d93fbb"
      },
      "execution_count": 106,
      "outputs": [
        {
          "output_type": "stream",
          "name": "stdout",
          "text": [
            "012/31/2021\n",
            "00:40:6\n",
            "012/31/2021 00:40:6\n"
          ]
        }
      ]
    },
    {
      "cell_type": "code",
      "source": [
        "# your code here\n",
        "\n",
        "\n"
      ],
      "metadata": {
        "id": "YaNd2i2L7eBd"
      },
      "execution_count": 107,
      "outputs": []
    },
    {
      "cell_type": "code",
      "source": [
        "import math\n",
        "print (dir(math))\n",
        "\n",
        "def degreeFromRadians(degrees):\n",
        "    return (degrees * (math.pi / 180.0))        \n",
        "\n",
        "def radiansFromDegree(radians):\n",
        "    return (radians * (180.0 / math.pi))\n",
        "\n",
        "theValue = 90 \n",
        "thesult = degreeFromRadians(90)\n",
        "print (thesult)\n",
        "print (radiansFromDegree(thesult))"
      ],
      "metadata": {
        "colab": {
          "base_uri": "https://localhost:8080/"
        },
        "id": "0U3VAyOm7iOr",
        "outputId": "0057e6df-d19a-4ae7-dfce-1b6e5eba69ea"
      },
      "execution_count": 108,
      "outputs": [
        {
          "output_type": "stream",
          "name": "stdout",
          "text": [
            "['__doc__', '__loader__', '__name__', '__package__', '__spec__', 'acos', 'acosh', 'asin', 'asinh', 'atan', 'atan2', 'atanh', 'ceil', 'copysign', 'cos', 'cosh', 'degrees', 'e', 'erf', 'erfc', 'exp', 'expm1', 'fabs', 'factorial', 'floor', 'fmod', 'frexp', 'fsum', 'gamma', 'gcd', 'hypot', 'inf', 'isclose', 'isfinite', 'isinf', 'isnan', 'ldexp', 'lgamma', 'log', 'log10', 'log1p', 'log2', 'modf', 'nan', 'pi', 'pow', 'radians', 'remainder', 'sin', 'sinh', 'sqrt', 'tan', 'tanh', 'tau', 'trunc']\n",
            "1.5707963267948966\n",
            "90.0\n"
          ]
        }
      ]
    },
    {
      "cell_type": "code",
      "source": [
        "# your code here\n",
        "\n",
        "\n"
      ],
      "metadata": {
        "id": "tvBCjpgs7ij4"
      },
      "execution_count": 109,
      "outputs": []
    },
    {
      "cell_type": "markdown",
      "source": [
        "***\n",
        "<br>\n",
        "Thank you for going through this tutorial once!! Now you are ready to move to PANDAS!!! \n",
        "\n"
      ],
      "metadata": {
        "id": "_FJEdsW47onX"
      }
    }
  ]
}