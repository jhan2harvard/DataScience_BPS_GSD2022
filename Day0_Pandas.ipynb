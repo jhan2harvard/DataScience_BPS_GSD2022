{
  "nbformat": 4,
  "nbformat_minor": 0,
  "metadata": {
    "colab": {
      "name": "Day0_Pandas.ipynb",
      "provenance": []
    },
    "kernelspec": {
      "name": "python3",
      "display_name": "Python 3"
    },
    "language_info": {
      "name": "python"
    }
  },
  "cells": [
    {
      "cell_type": "markdown",
      "source": [
        "### Harvard GSD  J-Term 2022 \n",
        "### Introduction to Data Science for Building Simulation and Architectural Design\n",
        "***\n",
        "Instructor: Jung Min Han, jhan2@gsd.harvard.edu <br>\n",
        "Date/Time: Jan 3-7/ 10:00 - 11:30 a.m. <br>\n",
        "***\n",
        "\n",
        "Pease copy this colab notebook and rename it before you start! \n",
        "\n",
        "---\n"
      ],
      "metadata": {
        "id": "jACJdoR_KG2b"
      }
    },
    {
      "cell_type": "markdown",
      "source": [
        "## Import NumPy and pandas modules\n",
        "\n",
        "Run the following code cell to import the NumPy and pandas modules. "
      ],
      "metadata": {
        "id": "9qw-PJVIKNdG"
      }
    },
    {
      "cell_type": "code",
      "source": [
        "import numpy as np\n",
        "import pandas as pd"
      ],
      "metadata": {
        "id": "IqNVsKSlKHTi"
      },
      "execution_count": 1,
      "outputs": []
    },
    {
      "cell_type": "markdown",
      "source": [
        "### 1. Create Data Frame\n",
        "* to create pandas data frame from dictionary in python\n",
        "* to create pandas data frame from csv"
      ],
      "metadata": {
        "id": "A0aeDWcLKM7X"
      }
    },
    {
      "cell_type": "code",
      "source": [
        "# Create and populate a 5x2 NumPy array.\n",
        "my_data = np.array([[0, 3], [10, 7], [20, 9], [30, 4], [40, 5]])\n",
        "\n",
        "# Create a Python list that holds the names of the two columns.\n",
        "my_column_names = ['temperature', 'wind speed']\n",
        "\n",
        "# Create a DataFrame.\n",
        "my_dataframe = pd.DataFrame(data=my_data, columns=my_column_names)\n",
        "\n",
        "# Print the entire DataFrame\n",
        "print(my_dataframe)"
      ],
      "metadata": {
        "colab": {
          "base_uri": "https://localhost:8080/"
        },
        "id": "Nb8_wNpzKUUu",
        "outputId": "1b7ef600-4b57-4476-a806-9a5a18bdb147"
      },
      "execution_count": 8,
      "outputs": [
        {
          "output_type": "stream",
          "name": "stdout",
          "text": [
            "   temperature  wind speed\n",
            "0            0           3\n",
            "1           10           7\n",
            "2           20           9\n",
            "3           30           4\n",
            "4           40           5\n"
          ]
        }
      ]
    },
    {
      "cell_type": "code",
      "source": [
        "# your code here\n",
        "\n",
        "\n",
        "\n"
      ],
      "metadata": {
        "id": "L3dH303zOc9Y"
      },
      "execution_count": 16,
      "outputs": []
    },
    {
      "cell_type": "code",
      "source": [
        "# pandas data frame from dictionary in python\n",
        "data = { \"name\" : ['a','b','c','d','e','f'],\n",
        "         \"id\" : [1,3,8,10,12,60],\n",
        "         \"value\" : [23,21,18,29,43,21]}\n",
        "\n",
        "df = pd.DataFrame(data)\n",
        "\n",
        "print (type(df))\n",
        "print (df)\n",
        "\n",
        "df = df.set_index(\"id\")\n",
        "print (df)"
      ],
      "metadata": {
        "colab": {
          "base_uri": "https://localhost:8080/"
        },
        "id": "Ry5-IezeOSoV",
        "outputId": "1282779e-2509-40a3-b3a5-6054064dac60"
      },
      "execution_count": 11,
      "outputs": [
        {
          "output_type": "stream",
          "name": "stdout",
          "text": [
            "<class 'pandas.core.frame.DataFrame'>\n",
            "  name  id  value\n",
            "0    a   1     23\n",
            "1    b   3     21\n",
            "2    c   8     18\n",
            "3    d  10     29\n",
            "4    e  12     43\n",
            "5    f  60     21\n",
            "   name  value\n",
            "id            \n",
            "1     a     23\n",
            "3     b     21\n",
            "8     c     18\n",
            "10    d     29\n",
            "12    e     43\n",
            "60    f     21\n"
          ]
        }
      ]
    },
    {
      "cell_type": "code",
      "source": [
        "# your code here\n",
        "\n",
        "\n",
        "\n"
      ],
      "metadata": {
        "id": "25K-854KObTr"
      },
      "execution_count": 15,
      "outputs": []
    },
    {
      "cell_type": "code",
      "source": [
        "print (df['value'])\n",
        "print (df.name)"
      ],
      "metadata": {
        "colab": {
          "base_uri": "https://localhost:8080/"
        },
        "id": "no4z1rFcOXpr",
        "outputId": "91da29c6-4c3a-43f0-bc1c-63b99eb2816a"
      },
      "execution_count": 12,
      "outputs": [
        {
          "output_type": "stream",
          "name": "stdout",
          "text": [
            "id\n",
            "1     23\n",
            "3     21\n",
            "8     18\n",
            "10    29\n",
            "12    43\n",
            "60    21\n",
            "Name: value, dtype: int64\n",
            "id\n",
            "1     a\n",
            "3     b\n",
            "8     c\n",
            "10    d\n",
            "12    e\n",
            "60    f\n",
            "Name: name, dtype: object\n"
          ]
        }
      ]
    },
    {
      "cell_type": "code",
      "source": [
        "# your code here\n",
        "\n",
        "\n",
        "\n"
      ],
      "metadata": {
        "id": "jqC7p4IsOXs1"
      },
      "execution_count": 13,
      "outputs": []
    },
    {
      "cell_type": "code",
      "source": [
        "# pandas data frames from list of list\n",
        "listOfList = [[1,2,3],\n",
        "             [4,5,6],\n",
        "             [7,8,9]]\n",
        "\n",
        "dfFromList = pd.DataFrame(listOfList)\n",
        "print (dfFromList)\n",
        "\n",
        "\n",
        "lstA = [1,2,3]\n",
        "lstB = [4,5,6]\n",
        "lstC = [7,8,9]\n",
        "listOfList2 = []\n",
        "listOfList2.append(lstA)\n",
        "listOfList2.append(lstB)\n",
        "listOfList2.append(lstC)\n",
        "\n",
        "dfFromList = pd.DataFrame(listOfList2)\n",
        "dfFromList.columns = [\"ID\", \"valA\", 'valB']\n",
        "print (dfFromList)"
      ],
      "metadata": {
        "colab": {
          "base_uri": "https://localhost:8080/"
        },
        "id": "ZYDRCh99OhSV",
        "outputId": "3b0ee4f3-7be3-45d0-a9ae-a8c341b0c177"
      },
      "execution_count": 17,
      "outputs": [
        {
          "output_type": "stream",
          "name": "stdout",
          "text": [
            "   0  1  2\n",
            "0  1  2  3\n",
            "1  4  5  6\n",
            "2  7  8  9\n",
            "   ID  valA  valB\n",
            "0   1     2     3\n",
            "1   4     5     6\n",
            "2   7     8     9\n"
          ]
        }
      ]
    },
    {
      "cell_type": "code",
      "source": [
        "# your code here\n",
        "\n",
        "\n",
        "\n",
        "\n"
      ],
      "metadata": {
        "id": "7hY0OzKPOhaf"
      },
      "execution_count": 18,
      "outputs": []
    },
    {
      "cell_type": "markdown",
      "source": [
        "### 2. Load dataframe \n"
      ],
      "metadata": {
        "id": "JxymbhBoQSCO"
      }
    },
    {
      "cell_type": "code",
      "source": [
        "from google.colab import drive\n",
        "drive.mount('/content/drive')"
      ],
      "metadata": {
        "colab": {
          "base_uri": "https://localhost:8080/"
        },
        "id": "8xa0N4uAPtaG",
        "outputId": "ea46a259-3610-4af3-ebae-54f7e12035a5"
      },
      "execution_count": 24,
      "outputs": [
        {
          "output_type": "stream",
          "name": "stdout",
          "text": [
            "Mounted at /content/drive\n"
          ]
        }
      ]
    },
    {
      "cell_type": "code",
      "source": [
        "# pandas data frame from csv\n",
        "def getPandasFromFile(path, fileName, theSkipRow):\n",
        "    path = os.path.join(path , fileName)\n",
        "    return pd.read_csv(path, skiprows= theSkipRow , header=None, index_col = False)\n",
        "def SavePandasToCSV(d, path):\n",
        "    d.to_csv(path)\n",
        "    return \"done!!\"\n",
        "\n",
        "# modify the following file path for your GoogleDrive\n",
        "FILEPATH = '/content/drive/My Drive/Colab Notebooks/J_Term/BostonWeatherFromWeb.csv'\n",
        "\n",
        "df = pd.read_csv(FILEPATH)\n",
        "df"
      ],
      "metadata": {
        "colab": {
          "base_uri": "https://localhost:8080/",
          "height": 426
        },
        "id": "ubEMUh5JKdfP",
        "outputId": "c0ad4eb7-229a-41d2-e182-3eceb446c252"
      },
      "execution_count": 25,
      "outputs": [
        {
          "output_type": "execute_result",
          "data": {
            "text/html": [
              "\n",
              "  <div id=\"df-a20f78fe-8e87-4212-bd51-a36e2aa3bc13\">\n",
              "    <div class=\"colab-df-container\">\n",
              "      <div>\n",
              "<style scoped>\n",
              "    .dataframe tbody tr th:only-of-type {\n",
              "        vertical-align: middle;\n",
              "    }\n",
              "\n",
              "    .dataframe tbody tr th {\n",
              "        vertical-align: top;\n",
              "    }\n",
              "\n",
              "    .dataframe thead th {\n",
              "        text-align: right;\n",
              "    }\n",
              "</style>\n",
              "<table border=\"1\" class=\"dataframe\">\n",
              "  <thead>\n",
              "    <tr style=\"text-align: right;\">\n",
              "      <th></th>\n",
              "      <th>Unnamed: 0</th>\n",
              "      <th>Month</th>\n",
              "      <th>Average high in :</th>\n",
              "      <th>Average low in :</th>\n",
              "      <th>Av. precipitation in :</th>\n",
              "      <th>Days with precipitation:</th>\n",
              "      <th>Hours of sunshine:</th>\n",
              "      <th>Average snowfall in :</th>\n",
              "    </tr>\n",
              "  </thead>\n",
              "  <tbody>\n",
              "    <tr>\n",
              "      <th>0</th>\n",
              "      <td>0</td>\n",
              "      <td>Jan</td>\n",
              "      <td>36</td>\n",
              "      <td>22</td>\n",
              "      <td>3.35</td>\n",
              "      <td>13</td>\n",
              "      <td>148</td>\n",
              "      <td>13</td>\n",
              "    </tr>\n",
              "    <tr>\n",
              "      <th>1</th>\n",
              "      <td>1</td>\n",
              "      <td>Feb</td>\n",
              "      <td>39</td>\n",
              "      <td>25</td>\n",
              "      <td>3.27</td>\n",
              "      <td>11</td>\n",
              "      <td>168</td>\n",
              "      <td>11</td>\n",
              "    </tr>\n",
              "    <tr>\n",
              "      <th>2</th>\n",
              "      <td>2</td>\n",
              "      <td>Mar</td>\n",
              "      <td>45</td>\n",
              "      <td>31</td>\n",
              "      <td>4.33</td>\n",
              "      <td>13</td>\n",
              "      <td>212</td>\n",
              "      <td>8</td>\n",
              "    </tr>\n",
              "    <tr>\n",
              "      <th>3</th>\n",
              "      <td>3</td>\n",
              "      <td>Apr</td>\n",
              "      <td>56</td>\n",
              "      <td>41</td>\n",
              "      <td>3.74</td>\n",
              "      <td>12</td>\n",
              "      <td>222</td>\n",
              "      <td>2</td>\n",
              "    </tr>\n",
              "    <tr>\n",
              "      <th>4</th>\n",
              "      <td>4</td>\n",
              "      <td>May</td>\n",
              "      <td>66</td>\n",
              "      <td>50</td>\n",
              "      <td>3.50</td>\n",
              "      <td>13</td>\n",
              "      <td>263</td>\n",
              "      <td>0</td>\n",
              "    </tr>\n",
              "    <tr>\n",
              "      <th>5</th>\n",
              "      <td>5</td>\n",
              "      <td>Jun</td>\n",
              "      <td>76</td>\n",
              "      <td>60</td>\n",
              "      <td>3.66</td>\n",
              "      <td>12</td>\n",
              "      <td>283</td>\n",
              "      <td>0</td>\n",
              "    </tr>\n",
              "    <tr>\n",
              "      <th>6</th>\n",
              "      <td>6</td>\n",
              "      <td>Jul</td>\n",
              "      <td>81</td>\n",
              "      <td>65</td>\n",
              "      <td>3.43</td>\n",
              "      <td>11</td>\n",
              "      <td>300</td>\n",
              "      <td>0</td>\n",
              "    </tr>\n",
              "    <tr>\n",
              "      <th>7</th>\n",
              "      <td>7</td>\n",
              "      <td>Aug</td>\n",
              "      <td>80</td>\n",
              "      <td>65</td>\n",
              "      <td>3.35</td>\n",
              "      <td>10</td>\n",
              "      <td>280</td>\n",
              "      <td>0</td>\n",
              "    </tr>\n",
              "    <tr>\n",
              "      <th>8</th>\n",
              "      <td>8</td>\n",
              "      <td>Sep</td>\n",
              "      <td>72</td>\n",
              "      <td>57</td>\n",
              "      <td>3.43</td>\n",
              "      <td>10</td>\n",
              "      <td>232</td>\n",
              "      <td>0</td>\n",
              "    </tr>\n",
              "    <tr>\n",
              "      <th>9</th>\n",
              "      <td>9</td>\n",
              "      <td>Oct</td>\n",
              "      <td>61</td>\n",
              "      <td>47</td>\n",
              "      <td>3.94</td>\n",
              "      <td>10</td>\n",
              "      <td>207</td>\n",
              "      <td>0</td>\n",
              "    </tr>\n",
              "    <tr>\n",
              "      <th>10</th>\n",
              "      <td>10</td>\n",
              "      <td>Nov</td>\n",
              "      <td>51</td>\n",
              "      <td>38</td>\n",
              "      <td>3.98</td>\n",
              "      <td>11</td>\n",
              "      <td>152</td>\n",
              "      <td>1</td>\n",
              "    </tr>\n",
              "    <tr>\n",
              "      <th>11</th>\n",
              "      <td>11</td>\n",
              "      <td>Dec</td>\n",
              "      <td>41</td>\n",
              "      <td>28</td>\n",
              "      <td>3.78</td>\n",
              "      <td>11</td>\n",
              "      <td>148</td>\n",
              "      <td>9</td>\n",
              "    </tr>\n",
              "  </tbody>\n",
              "</table>\n",
              "</div>\n",
              "      <button class=\"colab-df-convert\" onclick=\"convertToInteractive('df-a20f78fe-8e87-4212-bd51-a36e2aa3bc13')\"\n",
              "              title=\"Convert this dataframe to an interactive table.\"\n",
              "              style=\"display:none;\">\n",
              "        \n",
              "  <svg xmlns=\"http://www.w3.org/2000/svg\" height=\"24px\"viewBox=\"0 0 24 24\"\n",
              "       width=\"24px\">\n",
              "    <path d=\"M0 0h24v24H0V0z\" fill=\"none\"/>\n",
              "    <path d=\"M18.56 5.44l.94 2.06.94-2.06 2.06-.94-2.06-.94-.94-2.06-.94 2.06-2.06.94zm-11 1L8.5 8.5l.94-2.06 2.06-.94-2.06-.94L8.5 2.5l-.94 2.06-2.06.94zm10 10l.94 2.06.94-2.06 2.06-.94-2.06-.94-.94-2.06-.94 2.06-2.06.94z\"/><path d=\"M17.41 7.96l-1.37-1.37c-.4-.4-.92-.59-1.43-.59-.52 0-1.04.2-1.43.59L10.3 9.45l-7.72 7.72c-.78.78-.78 2.05 0 2.83L4 21.41c.39.39.9.59 1.41.59.51 0 1.02-.2 1.41-.59l7.78-7.78 2.81-2.81c.8-.78.8-2.07 0-2.86zM5.41 20L4 18.59l7.72-7.72 1.47 1.35L5.41 20z\"/>\n",
              "  </svg>\n",
              "      </button>\n",
              "      \n",
              "  <style>\n",
              "    .colab-df-container {\n",
              "      display:flex;\n",
              "      flex-wrap:wrap;\n",
              "      gap: 12px;\n",
              "    }\n",
              "\n",
              "    .colab-df-convert {\n",
              "      background-color: #E8F0FE;\n",
              "      border: none;\n",
              "      border-radius: 50%;\n",
              "      cursor: pointer;\n",
              "      display: none;\n",
              "      fill: #1967D2;\n",
              "      height: 32px;\n",
              "      padding: 0 0 0 0;\n",
              "      width: 32px;\n",
              "    }\n",
              "\n",
              "    .colab-df-convert:hover {\n",
              "      background-color: #E2EBFA;\n",
              "      box-shadow: 0px 1px 2px rgba(60, 64, 67, 0.3), 0px 1px 3px 1px rgba(60, 64, 67, 0.15);\n",
              "      fill: #174EA6;\n",
              "    }\n",
              "\n",
              "    [theme=dark] .colab-df-convert {\n",
              "      background-color: #3B4455;\n",
              "      fill: #D2E3FC;\n",
              "    }\n",
              "\n",
              "    [theme=dark] .colab-df-convert:hover {\n",
              "      background-color: #434B5C;\n",
              "      box-shadow: 0px 1px 3px 1px rgba(0, 0, 0, 0.15);\n",
              "      filter: drop-shadow(0px 1px 2px rgba(0, 0, 0, 0.3));\n",
              "      fill: #FFFFFF;\n",
              "    }\n",
              "  </style>\n",
              "\n",
              "      <script>\n",
              "        const buttonEl =\n",
              "          document.querySelector('#df-a20f78fe-8e87-4212-bd51-a36e2aa3bc13 button.colab-df-convert');\n",
              "        buttonEl.style.display =\n",
              "          google.colab.kernel.accessAllowed ? 'block' : 'none';\n",
              "\n",
              "        async function convertToInteractive(key) {\n",
              "          const element = document.querySelector('#df-a20f78fe-8e87-4212-bd51-a36e2aa3bc13');\n",
              "          const dataTable =\n",
              "            await google.colab.kernel.invokeFunction('convertToInteractive',\n",
              "                                                     [key], {});\n",
              "          if (!dataTable) return;\n",
              "\n",
              "          const docLinkHtml = 'Like what you see? Visit the ' +\n",
              "            '<a target=\"_blank\" href=https://colab.research.google.com/notebooks/data_table.ipynb>data table notebook</a>'\n",
              "            + ' to learn more about interactive tables.';\n",
              "          element.innerHTML = '';\n",
              "          dataTable['output_type'] = 'display_data';\n",
              "          await google.colab.output.renderOutput(dataTable, element);\n",
              "          const docLink = document.createElement('div');\n",
              "          docLink.innerHTML = docLinkHtml;\n",
              "          element.appendChild(docLink);\n",
              "        }\n",
              "      </script>\n",
              "    </div>\n",
              "  </div>\n",
              "  "
            ],
            "text/plain": [
              "    Unnamed: 0 Month  ...  Hours of sunshine:  Average snowfall in :\n",
              "0            0   Jan  ...                 148                     13\n",
              "1            1   Feb  ...                 168                     11\n",
              "2            2   Mar  ...                 212                      8\n",
              "3            3   Apr  ...                 222                      2\n",
              "4            4   May  ...                 263                      0\n",
              "5            5   Jun  ...                 283                      0\n",
              "6            6   Jul  ...                 300                      0\n",
              "7            7   Aug  ...                 280                      0\n",
              "8            8   Sep  ...                 232                      0\n",
              "9            9   Oct  ...                 207                      0\n",
              "10          10   Nov  ...                 152                      1\n",
              "11          11   Dec  ...                 148                      9\n",
              "\n",
              "[12 rows x 8 columns]"
            ]
          },
          "metadata": {},
          "execution_count": 25
        }
      ]
    },
    {
      "cell_type": "code",
      "source": [
        "# your code here\n",
        "\n",
        "\n",
        "\n",
        "\n"
      ],
      "metadata": {
        "id": "oKtKaBDKQjHg"
      },
      "execution_count": 26,
      "outputs": []
    },
    {
      "cell_type": "markdown",
      "source": [
        "### 3. index and columns, and converting data\n",
        "* convert data frame to list \n",
        "* convert data frame to numpy\n",
        "* convert numpy or list to data frame\n",
        "\n",
        "* manipulation columns of data frame\n",
        "* manipulation row of data frame"
      ],
      "metadata": {
        "id": "48FJ0RZcQfiK"
      }
    },
    {
      "cell_type": "code",
      "source": [
        "print (\"the index :\", df.index)\n",
        "print (\"----------------------------------------------------\")\n",
        "print (\"the index :\", df.index.values)\n",
        "print (\"----------------------------------------------------\")\n",
        "print ('the columns', df.columns.values)\n",
        "print (\"----------------------------------------------------\")\n",
        "print (df['Average high in :'])\n",
        "print (df[['Month','Days with precipitation:']])"
      ],
      "metadata": {
        "colab": {
          "base_uri": "https://localhost:8080/"
        },
        "id": "imwh8AdTPsvV",
        "outputId": "9bd7ba32-07e7-41eb-9173-a10d182c625a"
      },
      "execution_count": 27,
      "outputs": [
        {
          "output_type": "stream",
          "name": "stdout",
          "text": [
            "the index : RangeIndex(start=0, stop=12, step=1)\n",
            "----------------------------------------------------\n",
            "the index : [ 0  1  2  3  4  5  6  7  8  9 10 11]\n",
            "----------------------------------------------------\n",
            "the columns ['Unnamed: 0' 'Month' 'Average high in :' 'Average low in :'\n",
            " 'Av. precipitation in :' 'Days with precipitation:' 'Hours of sunshine:'\n",
            " 'Average snowfall in :']\n",
            "----------------------------------------------------\n",
            "0     36\n",
            "1     39\n",
            "2     45\n",
            "3     56\n",
            "4     66\n",
            "5     76\n",
            "6     81\n",
            "7     80\n",
            "8     72\n",
            "9     61\n",
            "10    51\n",
            "11    41\n",
            "Name: Average high in :, dtype: int64\n",
            "   Month  Days with precipitation:\n",
            "0    Jan                        13\n",
            "1    Feb                        11\n",
            "2    Mar                        13\n",
            "3    Apr                        12\n",
            "4    May                        13\n",
            "5    Jun                        12\n",
            "6    Jul                        11\n",
            "7    Aug                        10\n",
            "8    Sep                        10\n",
            "9    Oct                        10\n",
            "10   Nov                        11\n",
            "11   Dec                        11\n"
          ]
        }
      ]
    },
    {
      "cell_type": "code",
      "source": [
        "# your codes here\n",
        "\n",
        "\n",
        "\n",
        "\n"
      ],
      "metadata": {
        "id": "YD8l20-nOttc"
      },
      "execution_count": 28,
      "outputs": []
    },
    {
      "cell_type": "code",
      "source": [
        "# to List\n",
        "airList = df['Hours of sunshine:'].tolist()\n",
        "print (type(airList))\n",
        "print (len(airList))\n",
        "print (\"------------------\")\n",
        "print (airList)"
      ],
      "metadata": {
        "colab": {
          "base_uri": "https://localhost:8080/"
        },
        "id": "RHAMy8fqQn6v",
        "outputId": "78947fdb-c7d6-44bc-b037-a0f094d65325"
      },
      "execution_count": 29,
      "outputs": [
        {
          "output_type": "stream",
          "name": "stdout",
          "text": [
            "<class 'list'>\n",
            "12\n",
            "------------------\n",
            "[148, 168, 212, 222, 263, 283, 300, 280, 232, 207, 152, 148]\n"
          ]
        }
      ]
    },
    {
      "cell_type": "code",
      "source": [
        "# your codes here\n",
        "\n",
        "\n",
        "\n",
        "\n"
      ],
      "metadata": {
        "id": "Q9P3VmU_QqWJ"
      },
      "execution_count": 31,
      "outputs": []
    },
    {
      "cell_type": "code",
      "source": [
        "# to Numpy array\n",
        "npArray = np.array(df['Hours of sunshine:'])\n",
        "print (type(npArray))\n",
        "print (npArray)"
      ],
      "metadata": {
        "colab": {
          "base_uri": "https://localhost:8080/"
        },
        "id": "b9eT447_Qo9Q",
        "outputId": "26b005f7-5293-4296-feb2-7980ba4aeffc"
      },
      "execution_count": 30,
      "outputs": [
        {
          "output_type": "stream",
          "name": "stdout",
          "text": [
            "<class 'numpy.ndarray'>\n",
            "[148 168 212 222 263 283 300 280 232 207 152 148]\n"
          ]
        }
      ]
    },
    {
      "cell_type": "code",
      "source": [
        "# your codes here\n",
        "\n",
        "\n",
        "\n",
        "\n"
      ],
      "metadata": {
        "id": "1K49uQJ9Qp72"
      },
      "execution_count": 32,
      "outputs": []
    },
    {
      "cell_type": "code",
      "source": [
        "# to Pandas Data Frame\n",
        "temp = df[['Month', 'Hours of sunshine:', 'Average snowfall in :']]\n",
        "\n",
        "newNp = np.array(temp)\n",
        "print (newNp)\n",
        "\n",
        "newDF = pd.DataFrame(temp)\n",
        "print (newDF)"
      ],
      "metadata": {
        "colab": {
          "base_uri": "https://localhost:8080/"
        },
        "id": "Ia-TOpzfQsJ9",
        "outputId": "e64b7e2b-b60a-45a4-e11f-237e3e8535b5"
      },
      "execution_count": 33,
      "outputs": [
        {
          "output_type": "stream",
          "name": "stdout",
          "text": [
            "[['Jan' 148 13]\n",
            " ['Feb' 168 11]\n",
            " ['Mar' 212 8]\n",
            " ['Apr' 222 2]\n",
            " ['May' 263 0]\n",
            " ['Jun' 283 0]\n",
            " ['Jul' 300 0]\n",
            " ['Aug' 280 0]\n",
            " ['Sep' 232 0]\n",
            " ['Oct' 207 0]\n",
            " ['Nov' 152 1]\n",
            " ['Dec' 148 9]]\n",
            "   Month  Hours of sunshine:  Average snowfall in :\n",
            "0    Jan                 148                     13\n",
            "1    Feb                 168                     11\n",
            "2    Mar                 212                      8\n",
            "3    Apr                 222                      2\n",
            "4    May                 263                      0\n",
            "5    Jun                 283                      0\n",
            "6    Jul                 300                      0\n",
            "7    Aug                 280                      0\n",
            "8    Sep                 232                      0\n",
            "9    Oct                 207                      0\n",
            "10   Nov                 152                      1\n",
            "11   Dec                 148                      9\n"
          ]
        }
      ]
    },
    {
      "cell_type": "code",
      "source": [
        "# your codes here\n",
        "\n",
        "\n",
        "\n",
        "\n"
      ],
      "metadata": {
        "id": "G5wWk-TbQtMd"
      },
      "execution_count": 34,
      "outputs": []
    },
    {
      "cell_type": "code",
      "source": [
        "# rename columns \n",
        "print (newDF.head(3))\n",
        "\n",
        "newDF.columns = [\"Time\", \"Sun\", 'Snow']\n",
        "\n",
        "print (newDF.head(3))"
      ],
      "metadata": {
        "colab": {
          "base_uri": "https://localhost:8080/"
        },
        "id": "mfUYOHj1Qu0w",
        "outputId": "d0270897-f6a9-46e0-9a96-5aed93896344"
      },
      "execution_count": 35,
      "outputs": [
        {
          "output_type": "stream",
          "name": "stdout",
          "text": [
            "  Month  Hours of sunshine:  Average snowfall in :\n",
            "0   Jan                 148                     13\n",
            "1   Feb                 168                     11\n",
            "2   Mar                 212                      8\n",
            "  Time  Sun  Snow\n",
            "0  Jan  148    13\n",
            "1  Feb  168    11\n",
            "2  Mar  212     8\n"
          ]
        }
      ]
    },
    {
      "cell_type": "code",
      "source": [
        "# your codes here\n",
        "\n",
        "\n",
        "\n",
        "\n"
      ],
      "metadata": {
        "id": "voZ1_raLQzzj"
      },
      "execution_count": 39,
      "outputs": []
    },
    {
      "cell_type": "code",
      "source": [
        "# get data from selected columns\n",
        "dataCol = newDF['Sun'].values\n",
        "print (dataCol)\n",
        "\n",
        "dataCol = newDF['Sun']\n",
        "print (dataCol)"
      ],
      "metadata": {
        "colab": {
          "base_uri": "https://localhost:8080/"
        },
        "id": "01KDGsgPQvyg",
        "outputId": "20b16c10-9b5e-4a59-a242-9740bd8b92dd"
      },
      "execution_count": 36,
      "outputs": [
        {
          "output_type": "stream",
          "name": "stdout",
          "text": [
            "[148 168 212 222 263 283 300 280 232 207 152 148]\n",
            "0     148\n",
            "1     168\n",
            "2     212\n",
            "3     222\n",
            "4     263\n",
            "5     283\n",
            "6     300\n",
            "7     280\n",
            "8     232\n",
            "9     207\n",
            "10    152\n",
            "11    148\n",
            "Name: Sun, dtype: int64\n"
          ]
        }
      ]
    },
    {
      "cell_type": "code",
      "source": [
        "# your codes here\n",
        "\n",
        "\n",
        "\n",
        "\n"
      ],
      "metadata": {
        "id": "ZvuQ4XGLQwvn"
      },
      "execution_count": 37,
      "outputs": []
    },
    {
      "cell_type": "code",
      "source": [
        "# slice data between start and end index \n",
        "dataCol = newDF['Sun']\n",
        "\n",
        "print (dataCol[2:10])"
      ],
      "metadata": {
        "colab": {
          "base_uri": "https://localhost:8080/"
        },
        "id": "-FsXKia1QyI0",
        "outputId": "29e091a8-0b68-4cc6-dfe3-537b1fc63773"
      },
      "execution_count": 38,
      "outputs": [
        {
          "output_type": "stream",
          "name": "stdout",
          "text": [
            "2    212\n",
            "3    222\n",
            "4    263\n",
            "5    283\n",
            "6    300\n",
            "7    280\n",
            "8    232\n",
            "9    207\n",
            "Name: Sun, dtype: int64\n"
          ]
        }
      ]
    },
    {
      "cell_type": "code",
      "source": [
        "# data change by index\n",
        "dataCol.iloc[6] = 0 # for 2D dataCol.iloc[:, 9]\n",
        "\n",
        "print (dataCol[2:10])"
      ],
      "metadata": {
        "colab": {
          "base_uri": "https://localhost:8080/"
        },
        "id": "GszwmNoTQy-Q",
        "outputId": "5eb8ebb1-7dc8-4562-f713-ec98ebd8b9c8"
      },
      "execution_count": 41,
      "outputs": [
        {
          "output_type": "stream",
          "name": "stdout",
          "text": [
            "2    212\n",
            "3    222\n",
            "4    263\n",
            "5    283\n",
            "6      0\n",
            "7    280\n",
            "8    232\n",
            "9    207\n",
            "Name: Sun, dtype: int64\n"
          ]
        },
        {
          "output_type": "stream",
          "name": "stderr",
          "text": [
            "/usr/local/lib/python3.7/dist-packages/pandas/core/indexing.py:670: SettingWithCopyWarning: \n",
            "A value is trying to be set on a copy of a slice from a DataFrame\n",
            "\n",
            "See the caveats in the documentation: https://pandas.pydata.org/pandas-docs/stable/user_guide/indexing.html#returning-a-view-versus-a-copy\n",
            "  iloc._setitem_with_indexer(indexer, value)\n"
          ]
        }
      ]
    },
    {
      "cell_type": "code",
      "source": [
        "# your codes here\n",
        "\n",
        "\n",
        "\n",
        "\n"
      ],
      "metadata": {
        "id": "uP6D0sStQ2-v"
      },
      "execution_count": 42,
      "outputs": []
    },
    {
      "cell_type": "code",
      "source": [
        "print (df.describe())\n",
        "print (\"---------------------------------\")\n"
      ],
      "metadata": {
        "colab": {
          "base_uri": "https://localhost:8080/"
        },
        "id": "wtyEV8C9Q633",
        "outputId": "32354859-00fa-422a-dcb6-8a14a53765df"
      },
      "execution_count": 43,
      "outputs": [
        {
          "output_type": "stream",
          "name": "stdout",
          "text": [
            "       Unnamed: 0  Average high in :  ...  Hours of sunshine:  Average snowfall in :\n",
            "count   12.000000          12.000000  ...           12.000000              12.000000\n",
            "mean     5.500000          58.666667  ...          217.916667               3.666667\n",
            "std      3.605551          16.394752  ...           55.467367               5.033223\n",
            "min      0.000000          36.000000  ...          148.000000               0.000000\n",
            "25%      2.750000          44.000000  ...          164.000000               0.000000\n",
            "50%      5.500000          58.500000  ...          217.000000               0.500000\n",
            "75%      8.250000          73.000000  ...          267.250000               8.250000\n",
            "max     11.000000          81.000000  ...          300.000000              13.000000\n",
            "\n",
            "[8 rows x 7 columns]\n",
            "---------------------------------\n"
          ]
        }
      ]
    },
    {
      "cell_type": "code",
      "source": [
        "print (\"the sum of value column :\", df['Average high in :'].sum())\n",
        "print (\"the standard deviation of value column :\", df['Average high in :'].std())\n",
        "print (\"the mean of value column :\", df['Average high in :'].mean())\n",
        "print (\"the min of value column :\", df['Average high in :'].min())\n",
        "print (\"the max of value column :\", df['Average high in :'].max())"
      ],
      "metadata": {
        "colab": {
          "base_uri": "https://localhost:8080/"
        },
        "id": "oAMF05CwQ7_2",
        "outputId": "13aec491-2417-46d0-eeb5-71d3fbd09a53"
      },
      "execution_count": 44,
      "outputs": [
        {
          "output_type": "stream",
          "name": "stdout",
          "text": [
            "the sum of value column : 704\n",
            "the standard deviation of value column : 16.39475156224939\n",
            "the mean of value column : 58.666666666666664\n",
            "the min of value column : 36\n",
            "the max of value column : 81\n"
          ]
        }
      ]
    },
    {
      "cell_type": "code",
      "source": [
        "# your codes here\n",
        "\n",
        "\n",
        "\n",
        "\n"
      ],
      "metadata": {
        "id": "wqCXvCuyQ9RL"
      },
      "execution_count": 45,
      "outputs": []
    },
    {
      "cell_type": "code",
      "source": [
        "# sort \n",
        "sortedData = df.sort_values(['Hours of sunshine:'], ascending=[True])\n",
        "sortedData"
      ],
      "metadata": {
        "colab": {
          "base_uri": "https://localhost:8080/",
          "height": 426
        },
        "id": "ajFK0AT2Q-OV",
        "outputId": "420c4e79-9515-4eb4-ddf1-2b8572cea1e8"
      },
      "execution_count": 46,
      "outputs": [
        {
          "output_type": "execute_result",
          "data": {
            "text/html": [
              "\n",
              "  <div id=\"df-bd3bcd59-9927-4106-a6d6-4ff9a569e4d8\">\n",
              "    <div class=\"colab-df-container\">\n",
              "      <div>\n",
              "<style scoped>\n",
              "    .dataframe tbody tr th:only-of-type {\n",
              "        vertical-align: middle;\n",
              "    }\n",
              "\n",
              "    .dataframe tbody tr th {\n",
              "        vertical-align: top;\n",
              "    }\n",
              "\n",
              "    .dataframe thead th {\n",
              "        text-align: right;\n",
              "    }\n",
              "</style>\n",
              "<table border=\"1\" class=\"dataframe\">\n",
              "  <thead>\n",
              "    <tr style=\"text-align: right;\">\n",
              "      <th></th>\n",
              "      <th>Unnamed: 0</th>\n",
              "      <th>Month</th>\n",
              "      <th>Average high in :</th>\n",
              "      <th>Average low in :</th>\n",
              "      <th>Av. precipitation in :</th>\n",
              "      <th>Days with precipitation:</th>\n",
              "      <th>Hours of sunshine:</th>\n",
              "      <th>Average snowfall in :</th>\n",
              "    </tr>\n",
              "  </thead>\n",
              "  <tbody>\n",
              "    <tr>\n",
              "      <th>0</th>\n",
              "      <td>0</td>\n",
              "      <td>Jan</td>\n",
              "      <td>36</td>\n",
              "      <td>22</td>\n",
              "      <td>3.35</td>\n",
              "      <td>13</td>\n",
              "      <td>148</td>\n",
              "      <td>13</td>\n",
              "    </tr>\n",
              "    <tr>\n",
              "      <th>11</th>\n",
              "      <td>11</td>\n",
              "      <td>Dec</td>\n",
              "      <td>41</td>\n",
              "      <td>28</td>\n",
              "      <td>3.78</td>\n",
              "      <td>11</td>\n",
              "      <td>148</td>\n",
              "      <td>9</td>\n",
              "    </tr>\n",
              "    <tr>\n",
              "      <th>10</th>\n",
              "      <td>10</td>\n",
              "      <td>Nov</td>\n",
              "      <td>51</td>\n",
              "      <td>38</td>\n",
              "      <td>3.98</td>\n",
              "      <td>11</td>\n",
              "      <td>152</td>\n",
              "      <td>1</td>\n",
              "    </tr>\n",
              "    <tr>\n",
              "      <th>1</th>\n",
              "      <td>1</td>\n",
              "      <td>Feb</td>\n",
              "      <td>39</td>\n",
              "      <td>25</td>\n",
              "      <td>3.27</td>\n",
              "      <td>11</td>\n",
              "      <td>168</td>\n",
              "      <td>11</td>\n",
              "    </tr>\n",
              "    <tr>\n",
              "      <th>9</th>\n",
              "      <td>9</td>\n",
              "      <td>Oct</td>\n",
              "      <td>61</td>\n",
              "      <td>47</td>\n",
              "      <td>3.94</td>\n",
              "      <td>10</td>\n",
              "      <td>207</td>\n",
              "      <td>0</td>\n",
              "    </tr>\n",
              "    <tr>\n",
              "      <th>2</th>\n",
              "      <td>2</td>\n",
              "      <td>Mar</td>\n",
              "      <td>45</td>\n",
              "      <td>31</td>\n",
              "      <td>4.33</td>\n",
              "      <td>13</td>\n",
              "      <td>212</td>\n",
              "      <td>8</td>\n",
              "    </tr>\n",
              "    <tr>\n",
              "      <th>3</th>\n",
              "      <td>3</td>\n",
              "      <td>Apr</td>\n",
              "      <td>56</td>\n",
              "      <td>41</td>\n",
              "      <td>3.74</td>\n",
              "      <td>12</td>\n",
              "      <td>222</td>\n",
              "      <td>2</td>\n",
              "    </tr>\n",
              "    <tr>\n",
              "      <th>8</th>\n",
              "      <td>8</td>\n",
              "      <td>Sep</td>\n",
              "      <td>72</td>\n",
              "      <td>57</td>\n",
              "      <td>3.43</td>\n",
              "      <td>10</td>\n",
              "      <td>232</td>\n",
              "      <td>0</td>\n",
              "    </tr>\n",
              "    <tr>\n",
              "      <th>4</th>\n",
              "      <td>4</td>\n",
              "      <td>May</td>\n",
              "      <td>66</td>\n",
              "      <td>50</td>\n",
              "      <td>3.50</td>\n",
              "      <td>13</td>\n",
              "      <td>263</td>\n",
              "      <td>0</td>\n",
              "    </tr>\n",
              "    <tr>\n",
              "      <th>7</th>\n",
              "      <td>7</td>\n",
              "      <td>Aug</td>\n",
              "      <td>80</td>\n",
              "      <td>65</td>\n",
              "      <td>3.35</td>\n",
              "      <td>10</td>\n",
              "      <td>280</td>\n",
              "      <td>0</td>\n",
              "    </tr>\n",
              "    <tr>\n",
              "      <th>5</th>\n",
              "      <td>5</td>\n",
              "      <td>Jun</td>\n",
              "      <td>76</td>\n",
              "      <td>60</td>\n",
              "      <td>3.66</td>\n",
              "      <td>12</td>\n",
              "      <td>283</td>\n",
              "      <td>0</td>\n",
              "    </tr>\n",
              "    <tr>\n",
              "      <th>6</th>\n",
              "      <td>6</td>\n",
              "      <td>Jul</td>\n",
              "      <td>81</td>\n",
              "      <td>65</td>\n",
              "      <td>3.43</td>\n",
              "      <td>11</td>\n",
              "      <td>300</td>\n",
              "      <td>0</td>\n",
              "    </tr>\n",
              "  </tbody>\n",
              "</table>\n",
              "</div>\n",
              "      <button class=\"colab-df-convert\" onclick=\"convertToInteractive('df-bd3bcd59-9927-4106-a6d6-4ff9a569e4d8')\"\n",
              "              title=\"Convert this dataframe to an interactive table.\"\n",
              "              style=\"display:none;\">\n",
              "        \n",
              "  <svg xmlns=\"http://www.w3.org/2000/svg\" height=\"24px\"viewBox=\"0 0 24 24\"\n",
              "       width=\"24px\">\n",
              "    <path d=\"M0 0h24v24H0V0z\" fill=\"none\"/>\n",
              "    <path d=\"M18.56 5.44l.94 2.06.94-2.06 2.06-.94-2.06-.94-.94-2.06-.94 2.06-2.06.94zm-11 1L8.5 8.5l.94-2.06 2.06-.94-2.06-.94L8.5 2.5l-.94 2.06-2.06.94zm10 10l.94 2.06.94-2.06 2.06-.94-2.06-.94-.94-2.06-.94 2.06-2.06.94z\"/><path d=\"M17.41 7.96l-1.37-1.37c-.4-.4-.92-.59-1.43-.59-.52 0-1.04.2-1.43.59L10.3 9.45l-7.72 7.72c-.78.78-.78 2.05 0 2.83L4 21.41c.39.39.9.59 1.41.59.51 0 1.02-.2 1.41-.59l7.78-7.78 2.81-2.81c.8-.78.8-2.07 0-2.86zM5.41 20L4 18.59l7.72-7.72 1.47 1.35L5.41 20z\"/>\n",
              "  </svg>\n",
              "      </button>\n",
              "      \n",
              "  <style>\n",
              "    .colab-df-container {\n",
              "      display:flex;\n",
              "      flex-wrap:wrap;\n",
              "      gap: 12px;\n",
              "    }\n",
              "\n",
              "    .colab-df-convert {\n",
              "      background-color: #E8F0FE;\n",
              "      border: none;\n",
              "      border-radius: 50%;\n",
              "      cursor: pointer;\n",
              "      display: none;\n",
              "      fill: #1967D2;\n",
              "      height: 32px;\n",
              "      padding: 0 0 0 0;\n",
              "      width: 32px;\n",
              "    }\n",
              "\n",
              "    .colab-df-convert:hover {\n",
              "      background-color: #E2EBFA;\n",
              "      box-shadow: 0px 1px 2px rgba(60, 64, 67, 0.3), 0px 1px 3px 1px rgba(60, 64, 67, 0.15);\n",
              "      fill: #174EA6;\n",
              "    }\n",
              "\n",
              "    [theme=dark] .colab-df-convert {\n",
              "      background-color: #3B4455;\n",
              "      fill: #D2E3FC;\n",
              "    }\n",
              "\n",
              "    [theme=dark] .colab-df-convert:hover {\n",
              "      background-color: #434B5C;\n",
              "      box-shadow: 0px 1px 3px 1px rgba(0, 0, 0, 0.15);\n",
              "      filter: drop-shadow(0px 1px 2px rgba(0, 0, 0, 0.3));\n",
              "      fill: #FFFFFF;\n",
              "    }\n",
              "  </style>\n",
              "\n",
              "      <script>\n",
              "        const buttonEl =\n",
              "          document.querySelector('#df-bd3bcd59-9927-4106-a6d6-4ff9a569e4d8 button.colab-df-convert');\n",
              "        buttonEl.style.display =\n",
              "          google.colab.kernel.accessAllowed ? 'block' : 'none';\n",
              "\n",
              "        async function convertToInteractive(key) {\n",
              "          const element = document.querySelector('#df-bd3bcd59-9927-4106-a6d6-4ff9a569e4d8');\n",
              "          const dataTable =\n",
              "            await google.colab.kernel.invokeFunction('convertToInteractive',\n",
              "                                                     [key], {});\n",
              "          if (!dataTable) return;\n",
              "\n",
              "          const docLinkHtml = 'Like what you see? Visit the ' +\n",
              "            '<a target=\"_blank\" href=https://colab.research.google.com/notebooks/data_table.ipynb>data table notebook</a>'\n",
              "            + ' to learn more about interactive tables.';\n",
              "          element.innerHTML = '';\n",
              "          dataTable['output_type'] = 'display_data';\n",
              "          await google.colab.output.renderOutput(dataTable, element);\n",
              "          const docLink = document.createElement('div');\n",
              "          docLink.innerHTML = docLinkHtml;\n",
              "          element.appendChild(docLink);\n",
              "        }\n",
              "      </script>\n",
              "    </div>\n",
              "  </div>\n",
              "  "
            ],
            "text/plain": [
              "    Unnamed: 0 Month  ...  Hours of sunshine:  Average snowfall in :\n",
              "0            0   Jan  ...                 148                     13\n",
              "11          11   Dec  ...                 148                      9\n",
              "10          10   Nov  ...                 152                      1\n",
              "1            1   Feb  ...                 168                     11\n",
              "9            9   Oct  ...                 207                      0\n",
              "2            2   Mar  ...                 212                      8\n",
              "3            3   Apr  ...                 222                      2\n",
              "8            8   Sep  ...                 232                      0\n",
              "4            4   May  ...                 263                      0\n",
              "7            7   Aug  ...                 280                      0\n",
              "5            5   Jun  ...                 283                      0\n",
              "6            6   Jul  ...                 300                      0\n",
              "\n",
              "[12 rows x 8 columns]"
            ]
          },
          "metadata": {},
          "execution_count": 46
        }
      ]
    },
    {
      "cell_type": "code",
      "source": [
        "# your codes here\n",
        "\n",
        "\n",
        "\n",
        "\n"
      ],
      "metadata": {
        "id": "N5otlixeQ_Ij"
      },
      "execution_count": 47,
      "outputs": []
    },
    {
      "cell_type": "code",
      "source": [
        "# conditional statement\n",
        "newDF"
      ],
      "metadata": {
        "colab": {
          "base_uri": "https://localhost:8080/",
          "height": 426
        },
        "id": "lvKOUhxFRAOn",
        "outputId": "9a8e6f24-01a4-4032-97b0-79251cd1f80c"
      },
      "execution_count": 48,
      "outputs": [
        {
          "output_type": "execute_result",
          "data": {
            "text/html": [
              "\n",
              "  <div id=\"df-12a2940f-7e59-4098-ae2f-8547511d7b4c\">\n",
              "    <div class=\"colab-df-container\">\n",
              "      <div>\n",
              "<style scoped>\n",
              "    .dataframe tbody tr th:only-of-type {\n",
              "        vertical-align: middle;\n",
              "    }\n",
              "\n",
              "    .dataframe tbody tr th {\n",
              "        vertical-align: top;\n",
              "    }\n",
              "\n",
              "    .dataframe thead th {\n",
              "        text-align: right;\n",
              "    }\n",
              "</style>\n",
              "<table border=\"1\" class=\"dataframe\">\n",
              "  <thead>\n",
              "    <tr style=\"text-align: right;\">\n",
              "      <th></th>\n",
              "      <th>Time</th>\n",
              "      <th>Sun</th>\n",
              "      <th>Snow</th>\n",
              "    </tr>\n",
              "  </thead>\n",
              "  <tbody>\n",
              "    <tr>\n",
              "      <th>0</th>\n",
              "      <td>Jan</td>\n",
              "      <td>148</td>\n",
              "      <td>13</td>\n",
              "    </tr>\n",
              "    <tr>\n",
              "      <th>1</th>\n",
              "      <td>Feb</td>\n",
              "      <td>168</td>\n",
              "      <td>11</td>\n",
              "    </tr>\n",
              "    <tr>\n",
              "      <th>2</th>\n",
              "      <td>Mar</td>\n",
              "      <td>212</td>\n",
              "      <td>8</td>\n",
              "    </tr>\n",
              "    <tr>\n",
              "      <th>3</th>\n",
              "      <td>Apr</td>\n",
              "      <td>222</td>\n",
              "      <td>2</td>\n",
              "    </tr>\n",
              "    <tr>\n",
              "      <th>4</th>\n",
              "      <td>May</td>\n",
              "      <td>263</td>\n",
              "      <td>0</td>\n",
              "    </tr>\n",
              "    <tr>\n",
              "      <th>5</th>\n",
              "      <td>Jun</td>\n",
              "      <td>283</td>\n",
              "      <td>0</td>\n",
              "    </tr>\n",
              "    <tr>\n",
              "      <th>6</th>\n",
              "      <td>Jul</td>\n",
              "      <td>0</td>\n",
              "      <td>0</td>\n",
              "    </tr>\n",
              "    <tr>\n",
              "      <th>7</th>\n",
              "      <td>Aug</td>\n",
              "      <td>280</td>\n",
              "      <td>0</td>\n",
              "    </tr>\n",
              "    <tr>\n",
              "      <th>8</th>\n",
              "      <td>Sep</td>\n",
              "      <td>232</td>\n",
              "      <td>0</td>\n",
              "    </tr>\n",
              "    <tr>\n",
              "      <th>9</th>\n",
              "      <td>Oct</td>\n",
              "      <td>207</td>\n",
              "      <td>0</td>\n",
              "    </tr>\n",
              "    <tr>\n",
              "      <th>10</th>\n",
              "      <td>Nov</td>\n",
              "      <td>152</td>\n",
              "      <td>1</td>\n",
              "    </tr>\n",
              "    <tr>\n",
              "      <th>11</th>\n",
              "      <td>Dec</td>\n",
              "      <td>148</td>\n",
              "      <td>9</td>\n",
              "    </tr>\n",
              "  </tbody>\n",
              "</table>\n",
              "</div>\n",
              "      <button class=\"colab-df-convert\" onclick=\"convertToInteractive('df-12a2940f-7e59-4098-ae2f-8547511d7b4c')\"\n",
              "              title=\"Convert this dataframe to an interactive table.\"\n",
              "              style=\"display:none;\">\n",
              "        \n",
              "  <svg xmlns=\"http://www.w3.org/2000/svg\" height=\"24px\"viewBox=\"0 0 24 24\"\n",
              "       width=\"24px\">\n",
              "    <path d=\"M0 0h24v24H0V0z\" fill=\"none\"/>\n",
              "    <path d=\"M18.56 5.44l.94 2.06.94-2.06 2.06-.94-2.06-.94-.94-2.06-.94 2.06-2.06.94zm-11 1L8.5 8.5l.94-2.06 2.06-.94-2.06-.94L8.5 2.5l-.94 2.06-2.06.94zm10 10l.94 2.06.94-2.06 2.06-.94-2.06-.94-.94-2.06-.94 2.06-2.06.94z\"/><path d=\"M17.41 7.96l-1.37-1.37c-.4-.4-.92-.59-1.43-.59-.52 0-1.04.2-1.43.59L10.3 9.45l-7.72 7.72c-.78.78-.78 2.05 0 2.83L4 21.41c.39.39.9.59 1.41.59.51 0 1.02-.2 1.41-.59l7.78-7.78 2.81-2.81c.8-.78.8-2.07 0-2.86zM5.41 20L4 18.59l7.72-7.72 1.47 1.35L5.41 20z\"/>\n",
              "  </svg>\n",
              "      </button>\n",
              "      \n",
              "  <style>\n",
              "    .colab-df-container {\n",
              "      display:flex;\n",
              "      flex-wrap:wrap;\n",
              "      gap: 12px;\n",
              "    }\n",
              "\n",
              "    .colab-df-convert {\n",
              "      background-color: #E8F0FE;\n",
              "      border: none;\n",
              "      border-radius: 50%;\n",
              "      cursor: pointer;\n",
              "      display: none;\n",
              "      fill: #1967D2;\n",
              "      height: 32px;\n",
              "      padding: 0 0 0 0;\n",
              "      width: 32px;\n",
              "    }\n",
              "\n",
              "    .colab-df-convert:hover {\n",
              "      background-color: #E2EBFA;\n",
              "      box-shadow: 0px 1px 2px rgba(60, 64, 67, 0.3), 0px 1px 3px 1px rgba(60, 64, 67, 0.15);\n",
              "      fill: #174EA6;\n",
              "    }\n",
              "\n",
              "    [theme=dark] .colab-df-convert {\n",
              "      background-color: #3B4455;\n",
              "      fill: #D2E3FC;\n",
              "    }\n",
              "\n",
              "    [theme=dark] .colab-df-convert:hover {\n",
              "      background-color: #434B5C;\n",
              "      box-shadow: 0px 1px 3px 1px rgba(0, 0, 0, 0.15);\n",
              "      filter: drop-shadow(0px 1px 2px rgba(0, 0, 0, 0.3));\n",
              "      fill: #FFFFFF;\n",
              "    }\n",
              "  </style>\n",
              "\n",
              "      <script>\n",
              "        const buttonEl =\n",
              "          document.querySelector('#df-12a2940f-7e59-4098-ae2f-8547511d7b4c button.colab-df-convert');\n",
              "        buttonEl.style.display =\n",
              "          google.colab.kernel.accessAllowed ? 'block' : 'none';\n",
              "\n",
              "        async function convertToInteractive(key) {\n",
              "          const element = document.querySelector('#df-12a2940f-7e59-4098-ae2f-8547511d7b4c');\n",
              "          const dataTable =\n",
              "            await google.colab.kernel.invokeFunction('convertToInteractive',\n",
              "                                                     [key], {});\n",
              "          if (!dataTable) return;\n",
              "\n",
              "          const docLinkHtml = 'Like what you see? Visit the ' +\n",
              "            '<a target=\"_blank\" href=https://colab.research.google.com/notebooks/data_table.ipynb>data table notebook</a>'\n",
              "            + ' to learn more about interactive tables.';\n",
              "          element.innerHTML = '';\n",
              "          dataTable['output_type'] = 'display_data';\n",
              "          await google.colab.output.renderOutput(dataTable, element);\n",
              "          const docLink = document.createElement('div');\n",
              "          docLink.innerHTML = docLinkHtml;\n",
              "          element.appendChild(docLink);\n",
              "        }\n",
              "      </script>\n",
              "    </div>\n",
              "  </div>\n",
              "  "
            ],
            "text/plain": [
              "   Time  Sun  Snow\n",
              "0   Jan  148    13\n",
              "1   Feb  168    11\n",
              "2   Mar  212     8\n",
              "3   Apr  222     2\n",
              "4   May  263     0\n",
              "5   Jun  283     0\n",
              "6   Jul    0     0\n",
              "7   Aug  280     0\n",
              "8   Sep  232     0\n",
              "9   Oct  207     0\n",
              "10  Nov  152     1\n",
              "11  Dec  148     9"
            ]
          },
          "metadata": {},
          "execution_count": 48
        }
      ]
    },
    {
      "cell_type": "code",
      "source": [
        "print (\"---------------------\")\n",
        "print (newDF['Sun'] == 0)\n",
        "print (\"---------------------\")\n",
        "print (newDF[newDF['Sun'] > 200])\n",
        "print (\"---------------------\")\n",
        "print (newDF[(newDF[\"Sun\"] > 100) & (newDF['Sun'] < 200) ])\n",
        "print (\"---------------------\")\n",
        "print (newDF[ (newDF[\"Sun\"] > 100) & (newDF['Snow'] > 1) ])\n"
      ],
      "metadata": {
        "colab": {
          "base_uri": "https://localhost:8080/"
        },
        "id": "sNvGF4IARBX1",
        "outputId": "474b50af-bb8f-49cc-e040-a194f1c9deba"
      },
      "execution_count": 49,
      "outputs": [
        {
          "output_type": "stream",
          "name": "stdout",
          "text": [
            "---------------------\n",
            "0     False\n",
            "1     False\n",
            "2     False\n",
            "3     False\n",
            "4     False\n",
            "5     False\n",
            "6      True\n",
            "7     False\n",
            "8     False\n",
            "9     False\n",
            "10    False\n",
            "11    False\n",
            "Name: Sun, dtype: bool\n",
            "---------------------\n",
            "  Time  Sun  Snow\n",
            "2  Mar  212     8\n",
            "3  Apr  222     2\n",
            "4  May  263     0\n",
            "5  Jun  283     0\n",
            "7  Aug  280     0\n",
            "8  Sep  232     0\n",
            "9  Oct  207     0\n",
            "---------------------\n",
            "   Time  Sun  Snow\n",
            "0   Jan  148    13\n",
            "1   Feb  168    11\n",
            "10  Nov  152     1\n",
            "11  Dec  148     9\n",
            "---------------------\n",
            "   Time  Sun  Snow\n",
            "0   Jan  148    13\n",
            "1   Feb  168    11\n",
            "2   Mar  212     8\n",
            "3   Apr  222     2\n",
            "11  Dec  148     9\n"
          ]
        }
      ]
    },
    {
      "cell_type": "code",
      "source": [
        "# your codes here\n",
        "\n",
        "\n",
        "\n",
        "\n"
      ],
      "metadata": {
        "id": "hGft3B8mRIiO"
      },
      "execution_count": 50,
      "outputs": []
    },
    {
      "cell_type": "markdown",
      "source": [
        "### 4. save data\n",
        "* save data as csv\n",
        "* save data as HTML"
      ],
      "metadata": {
        "id": "PqJXb0UlRMlY"
      }
    },
    {
      "cell_type": "code",
      "source": [
        "# save data frame as csv\n",
        "newDF.to_csv(\"new_data.csv\", header=True)\n",
        "newDF.to_html(\"new_data.html\", header=True)"
      ],
      "metadata": {
        "id": "0oqjn1NjRNlI"
      },
      "execution_count": 52,
      "outputs": []
    }
  ]
}